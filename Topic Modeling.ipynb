{
 "cells": [
  {
   "cell_type": "markdown",
   "id": "bce2bb89",
   "metadata": {},
   "source": [
    "# ADS 509 Assignment 5.1: Topic Modeling\n",
    "\n",
    "This notebook holds Assignment 5.1 for Module 5 in ADS 509, Applied Text Mining. Work through this notebook, writing code and answering questions where required. \n",
    "\n",
    "In this assignment you will work with a categorical corpus that accompanies `nltk`. You will build the three types of topic models described in Chapter 8 of _Blueprints for Text Analytics using Python_: NMF, LSA, and LDA. You will compare these models to the true categories. \n"
   ]
  },
  {
   "cell_type": "markdown",
   "id": "d87e2c06",
   "metadata": {},
   "source": [
    "## General Assignment Instructions\n",
    "\n",
    "These instructions are included in every assignment, to remind you of the coding standards for the class. Feel free to delete this cell after reading it. \n",
    "\n",
    "One sign of mature code is conforming to a style guide. We recommend the [Google Python Style Guide](https://google.github.io/styleguide/pyguide.html). If you use a different style guide, please include a cell with a link. \n",
    "\n",
    "Your code should be relatively easy-to-read, sensibly commented, and clean. Writing code is a messy process, so please be sure to edit your final submission. Remove any cells that are not needed or parts of cells that contain unnecessary code. Remove inessential `import` statements and make sure that all such statements are moved into the designated cell. \n",
    "\n",
    "Make use of non-code cells for written commentary. These cells should be grammatical and clearly written. In some of these cells you will have questions to answer. The questions will be marked by a \"Q:\" and will have a corresponding \"A:\" spot for you. *Make sure to answer every question marked with a `Q:` for full credit.* \n"
   ]
  },
  {
   "cell_type": "code",
   "execution_count": 1,
   "id": "a85bce08",
   "metadata": {},
   "outputs": [],
   "source": [
    "# These libraries may be useful to you\n",
    "\n",
    "from nltk.corpus import brown\n",
    "\n",
    "import numpy as np\n",
    "import pandas as pd\n",
    "from tqdm.auto import tqdm\n",
    "\n",
    "#import gensim\n",
    "#import gensim.corpora as corpora\n",
    "#from gensim.utils import simple_preprocess\n",
    "#from gensim.models import CoherenceModel,LdaMulticore, Phrases \n",
    "#from gensim.models.phrases import Phraser \n",
    "#from gensim.corpora import Dictionary\n",
    "\n",
    "import pyLDAvis\n",
    "import pyLDAvis.sklearn\n",
    "import pyLDAvis.gensim_models\n",
    "\n",
    "import spacy\n",
    "from sklearn.feature_extraction.text import TfidfVectorizer, CountVectorizer\n",
    "from sklearn.decomposition import NMF, TruncatedSVD, LatentDirichletAllocation\n",
    "\n",
    "from spacy.lang.en.stop_words import STOP_WORDS as stopwords\n",
    "\n",
    "from collections import Counter, defaultdict\n",
    "\n",
    "nlp = spacy.load('en_core_web_sm')\n",
    "\n"
   ]
  },
  {
   "cell_type": "code",
   "execution_count": 1,
   "id": "a218df60",
   "metadata": {},
   "outputs": [],
   "source": [
    "# add any additional libaries you need here\n",
    "\n"
   ]
  },
  {
   "cell_type": "code",
   "execution_count": 3,
   "id": "494de237",
   "metadata": {},
   "outputs": [],
   "source": [
    "# This function comes from the BTAP repo.\n",
    "\n",
    "def display_topics(model, features, no_top_words=5):\n",
    "    for topic, words in enumerate(model.components_):\n",
    "        total = words.sum()\n",
    "        largest = words.argsort()[::-1] # invert sort order\n",
    "        print(\"\\nTopic %02d\" % topic)\n",
    "        for i in range(0, no_top_words):\n",
    "            print(\"  %s (%2.2f)\" % (features[largest[i]], abs(words[largest[i]]*100.0/total)))"
   ]
  },
  {
   "cell_type": "markdown",
   "id": "a30a901c",
   "metadata": {},
   "source": [
    "## Getting to Know the Brown Corpus\n",
    "\n",
    "Let's spend a bit of time getting to know what's in the Brown corpus, our NLTK example of an \"overlapping\" corpus."
   ]
  },
  {
   "cell_type": "code",
   "execution_count": 4,
   "id": "457c59ed",
   "metadata": {},
   "outputs": [
    {
     "name": "stdout",
     "output_type": "stream",
     "text": [
      "For adventure we have 29 articles.\n",
      "For belles_lettres we have 75 articles.\n",
      "For editorial we have 27 articles.\n",
      "For fiction we have 29 articles.\n",
      "For government we have 30 articles.\n",
      "For hobbies we have 36 articles.\n",
      "For humor we have 9 articles.\n",
      "For learned we have 80 articles.\n",
      "For lore we have 48 articles.\n",
      "For mystery we have 24 articles.\n",
      "For news we have 44 articles.\n",
      "For religion we have 17 articles.\n",
      "For reviews we have 17 articles.\n",
      "For romance we have 29 articles.\n",
      "For science_fiction we have 6 articles.\n"
     ]
    }
   ],
   "source": [
    "# categories of articles in Brown corpus\n",
    "for category in brown.categories() :\n",
    "    print(f\"For {category} we have {len(brown.fileids(categories=category))} articles.\")"
   ]
  },
  {
   "cell_type": "markdown",
   "id": "23fb133c",
   "metadata": {},
   "source": [
    "Let's create a dataframe of the articles in of hobbies, editorial, government, news, and romance."
   ]
  },
  {
   "cell_type": "code",
   "execution_count": 5,
   "id": "18f50b9d",
   "metadata": {},
   "outputs": [
    {
     "data": {
      "text/plain": [
       "(166, 3)"
      ]
     },
     "execution_count": 5,
     "metadata": {},
     "output_type": "execute_result"
    }
   ],
   "source": [
    "categories = ['editorial','government','news','romance','hobbies'] \n",
    "\n",
    "category_list = []\n",
    "file_ids = []\n",
    "texts = []\n",
    "\n",
    "for category in categories : \n",
    "    for file_id in brown.fileids(categories=category) :\n",
    "        \n",
    "        # build some lists for a dataframe\n",
    "        category_list.append(category)\n",
    "        file_ids.append(file_id)\n",
    "        \n",
    "        text = brown.words(fileids=file_id)\n",
    "        texts.append(\" \".join(text))\n",
    "\n",
    "        \n",
    "        \n",
    "df = pd.DataFrame()\n",
    "df['category'] = category_list\n",
    "df['id'] = file_ids\n",
    "df['text'] = texts \n",
    "\n",
    "df.shape"
   ]
  },
  {
   "cell_type": "code",
   "execution_count": 6,
   "id": "586f47de",
   "metadata": {},
   "outputs": [],
   "source": [
    "# Let's add some helpful columns on the df\n",
    "df['char_len'] = df['text'].apply(len)\n",
    "df['word_len'] = df['text'].apply(lambda x: len(x.split()))\n"
   ]
  },
  {
   "cell_type": "code",
   "execution_count": 7,
   "id": "2128fd2d",
   "metadata": {},
   "outputs": [
    {
     "data": {
      "text/plain": [
       "<AxesSubplot:xlabel='category'>"
      ]
     },
     "execution_count": 7,
     "metadata": {},
     "output_type": "execute_result"
    },
    {
     "data": {
      "image/png": "[encoded data removed]",
      "text/plain": [
       "<Figure size 720x432 with 1 Axes>"
      ]
     },
     "metadata": {
      "needs_background": "light"
     },
     "output_type": "display_data"
    }
   ],
   "source": [
    "%matplotlib inline\n",
    "df.groupby('category').agg({'word_len': 'mean'}).plot.bar(figsize=(10,6))"
   ]
  },
  {
   "cell_type": "markdown",
   "id": "554ffeb5",
   "metadata": {},
   "source": [
    "Now do our TF-IDF and Count vectorizations."
   ]
  },
  {
   "cell_type": "code",
   "execution_count": 8,
   "id": "21a7d247",
   "metadata": {},
   "outputs": [
    {
     "name": "stderr",
     "output_type": "stream",
     "text": [
      "/Users/chandler/opt/anaconda3/lib/python3.8/site-packages/sklearn/feature_extraction/text.py:388: UserWarning: Your stop_words may be inconsistent with your preprocessing. Tokenizing the stop words generated tokens ['ll', 've'] not in stop_words.\n",
      "  warnings.warn('Your stop_words may be inconsistent with '\n"
     ]
    },
    {
     "data": {
      "text/plain": [
       "(166, 4941)"
      ]
     },
     "execution_count": 8,
     "metadata": {},
     "output_type": "execute_result"
    }
   ],
   "source": [
    "count_text_vectorizer = CountVectorizer(stop_words=stopwords, min_df=5, max_df=0.7)\n",
    "count_text_vectors = count_text_vectorizer.fit_transform(df[\"text\"])\n",
    "count_text_vectors.shape"
   ]
  },
  {
   "cell_type": "code",
   "execution_count": 9,
   "id": "875deba9",
   "metadata": {},
   "outputs": [
    {
     "data": {
      "text/plain": [
       "(166, 4941)"
      ]
     },
     "execution_count": 9,
     "metadata": {},
     "output_type": "execute_result"
    }
   ],
   "source": [
    "tfidf_text_vectorizer = TfidfVectorizer(stop_words=stopwords, min_df=5, max_df=0.7)\n",
    "tfidf_text_vectors = tfidf_text_vectorizer.fit_transform(df['text'])\n",
    "tfidf_text_vectors.shape"
   ]
  },
  {
   "cell_type": "markdown",
   "id": "a1062b21",
   "metadata": {},
   "source": [
    "Q: What do the two data frames `count_text_vectors` and `tfidf_text_vectors` hold? \n",
    "\n",
    "A: "
   ]
  },
  {
   "cell_type": "markdown",
   "id": "f77c3f94",
   "metadata": {},
   "source": [
    "## Fitting a Non-Negative Matrix Factorization Model\n",
    "\n",
    "In this section the code to fit a five-topic NMF model has already been written. This code comes directly from the [BTAP repo](https://github.com/blueprints-for-text-analytics-python/blueprints-text), which will help you tremendously in the coming sections. "
   ]
  },
  {
   "cell_type": "code",
   "execution_count": 10,
   "id": "d28745a3",
   "metadata": {},
   "outputs": [
    {
     "name": "stderr",
     "output_type": "stream",
     "text": [
      "/Users/chandler/opt/anaconda3/lib/python3.8/site-packages/sklearn/decomposition/_nmf.py:312: FutureWarning: The 'init' value, when 'init=None' and n_components is less than n_samples and n_features, will be changed from 'nndsvd' to 'nndsvda' in 1.1 (renaming of 0.26).\n",
      "  warnings.warn((\"The 'init' value, when 'init=None' and \"\n"
     ]
    }
   ],
   "source": [
    "nmf_text_model = NMF(n_components=5, random_state=314)\n",
    "W_text_matrix = nmf_text_model.fit_transform(tfidf_text_vectors)\n",
    "H_text_matrix = nmf_text_model.components_"
   ]
  },
  {
   "cell_type": "code",
   "execution_count": 11,
   "id": "a67185e7",
   "metadata": {},
   "outputs": [
    {
     "name": "stdout",
     "output_type": "stream",
     "text": [
      "\n",
      "Topic 00\n",
      "  mr (0.51)\n",
      "  president (0.45)\n",
      "  kennedy (0.43)\n",
      "  united (0.42)\n",
      "  khrushchev (0.40)\n",
      "\n",
      "Topic 01\n",
      "  said (0.88)\n",
      "  didn (0.46)\n",
      "  ll (0.45)\n",
      "  thought (0.42)\n",
      "  man (0.37)\n",
      "\n",
      "Topic 02\n",
      "  state (0.40)\n",
      "  development (0.36)\n",
      "  tax (0.33)\n",
      "  sales (0.30)\n",
      "  program (0.25)\n",
      "\n",
      "Topic 03\n",
      "  mrs (2.61)\n",
      "  mr (0.78)\n",
      "  said (0.64)\n",
      "  miss (0.52)\n",
      "  car (0.51)\n",
      "\n",
      "Topic 04\n",
      "  game (1.01)\n",
      "  league (0.74)\n",
      "  ball (0.72)\n",
      "  baseball (0.71)\n",
      "  team (0.66)\n"
     ]
    }
   ],
   "source": [
    "display_topics(nmf_text_model, tfidf_text_vectorizer.get_feature_names())"
   ]
  },
  {
   "cell_type": "markdown",
   "id": "fee51e9b",
   "metadata": {},
   "source": [
    "Now some work for you to do. Compare the NMF factorization to the original categories from the Brown Corpus."
   ]
  },
  {
   "cell_type": "code",
   "execution_count": 12,
   "id": "7c8c8eb0",
   "metadata": {},
   "outputs": [],
   "source": [
    "# Your code here"
   ]
  },
  {
   "cell_type": "markdown",
   "id": "f8d4e2bc",
   "metadata": {},
   "source": [
    "Q: How does your five-topic NMF model compare to the original Brown categories? \n",
    "\n",
    "A: <!-- Your answer here --> "
   ]
  },
  {
   "cell_type": "markdown",
   "id": "82e37cb5",
   "metadata": {},
   "source": [
    "## Fitting an LSA Model\n",
    "\n",
    "In this section, follow the example from the repository and fit an LSA model (called a \"TruncatedSVD\" in `sklearn`). Again fit a five-topic model and compare it to the actual categories in the Brown corpus. Use the TF-IDF vectors for your fit, as above. "
   ]
  },
  {
   "cell_type": "code",
   "execution_count": 13,
   "id": "00b53d3d",
   "metadata": {},
   "outputs": [],
   "source": [
    "# Your code here"
   ]
  },
  {
   "cell_type": "markdown",
   "id": "4d94d56f",
   "metadata": {},
   "source": [
    "Q: How does your five-topic LSA model compare to the original Brown categories? \n",
    "\n",
    "A: <!-- Your answer here --> "
   ]
  },
  {
   "cell_type": "code",
   "execution_count": null,
   "id": "377a886e",
   "metadata": {},
   "outputs": [],
   "source": [
    "# call display_topics on your model"
   ]
  },
  {
   "cell_type": "markdown",
   "id": "ea8b280a",
   "metadata": {},
   "source": [
    "Q: What is your interpretation of the display topics output? \n",
    "\n",
    "A: "
   ]
  },
  {
   "cell_type": "markdown",
   "id": "b4ab4d29",
   "metadata": {},
   "source": [
    "## Fitting an LDA Model\n",
    "\n",
    "Finally, fit a five-topic LDA model using the count vectors (`count_text_vectors` from above). Display the results using `pyLDAvis.display` and describe what you learn from that visualization. "
   ]
  },
  {
   "cell_type": "code",
   "execution_count": null,
   "id": "802cb8ff",
   "metadata": {},
   "outputs": [],
   "source": [
    "# Fit your LDA model here"
   ]
  },
  {
   "cell_type": "code",
   "execution_count": null,
   "id": "ab18adf5",
   "metadata": {},
   "outputs": [],
   "source": [
    "# Call `display_topics` on your fitted model here"
   ]
  },
  {
   "cell_type": "markdown",
   "id": "f2c67876",
   "metadata": {},
   "source": [
    "Q: What inference do you draw from the displayed topics for your LDA model? \n",
    "\n",
    "A: <!-- Your answer here --> \n",
    "\n",
    "\n",
    "Q: How does your five-topic LDA model compare to the original Brown categories? \n",
    "\n",
    "A: <!-- Your answer here --> "
   ]
  },
  {
   "cell_type": "code",
   "execution_count": 19,
   "id": "6aae75ca",
   "metadata": {},
   "outputs": [],
   "source": [
    "lda_display = pyLDAvis.sklearn.prepare(lda_text_model, count_text_vectors, count_text_vectorizer, sort_topics=False)"
   ]
  },
  {
   "cell_type": "code",
   "execution_count": 20,
   "id": "2a89fc15",
   "metadata": {},
   "outputs": [
    {
     "data": {
      "text/html": [
       "\n",
       "<link rel=\"stylesheet\" type=\"text/css\" href=\"https://cdn.jsdelivr.net/gh/bmabey/pyLDAvis@3.3.1/pyLDAvis/js/ldavis.v1.0.0.css\">\n",
       "\n",
       "\n",
       "<div id=\"ldavis_el279681402078753659042666432860\"></div>\n",
       "<script type=\"text/javascript\">\n",
       "\n",
       "var ldavis_el279681402078753659042666432860_data = {\"mdsDat\": {\"x\": [0.11915023661246858, -0.12634029583310033, 0.014730620076156718, -0.03718642854199758, -0.16744997756772037, 0.1970958452541923], \"y\": [-0.18678755102751401, -0.039254802812984456, 0.12165371989711507, 0.018490333130388517, 0.0020253310680565023, 0.08387296974493841], \"topics\": [1, 2, 3, 4, 5, 6], \"cluster\": [1, 1, 1, 1, 1, 1], \"Freq\": [7.41630914455617, 14.868393449950906, 19.262242680102545, 11.738021573269636, 17.062819473351492, 29.652213678769247]}, \"tinfo\": {\"Term\": [\"mrs\", \"said\", \"state\", \"states\", \"tax\", \"mr\", \"united\", \"water\", \"feed\", \"president\", \"college\", \"clay\", \"use\", \"ll\", \"shall\", \"development\", \"fiscal\", \"sales\", \"shelter\", \"got\", \"inch\", \"1960\", \"cut\", \"place\", \"don\", \"government\", \"house\", \"university\", \"kennedy\", \"department\", \"shelter\", \"shooting\", \"blocks\", \"angle\", \"thickness\", \"lever\", \"site\", \"width\", \"drill\", \"tomato\", \"outdoors\", \"roof\", \"insert\", \"fitted\", \"lumber\", \"outdoor\", \"frames\", \"cooling\", \"sugar\", \"heating\", \"builder\", \"cooking\", \"clay\", \"concrete\", \"inch\", \"swim\", \"pieces\", \"entertain\", \"edges\", \"windows\", \"entrance\", \"panels\", \"fig\", \"mrs\", \"gun\", \"frame\", \"piece\", \"cut\", \"water\", \"heat\", \"wall\", \"recreation\", \"area\", \"add\", \"use\", \"place\", \"af\", \"house\", \"areas\", \"materials\", \"mr\", \"available\", \"cost\", \"home\", \"good\", \"way\", \"set\", \"work\", \"family\", \"boats\", \"electronic\", \"motors\", \"journal\", \"bankers\", \"warwick\", \"machine\", \"aircraft\", \"missile\", \"electronics\", \"procurement\", \"tract\", \"missiles\", \"inventories\", \"polaris\", \"concerns\", \"advances\", \"executives\", \"films\", \"machines\", \"founding\", \"sheraton\", \"manufacturing\", \"machinery\", \"mitchell\", \"laboratory\", \"marketing\", \"systems\", \"stocks\", \"stockholders\", \"co\", \"shares\", \"sales\", \"industry\", \"industrial\", \"rhode\", \"equipment\", \"1959\", \"1960\", \"farm\", \"medical\", \"island\", \"property\", \"production\", \"stock\", \"business\", \"corps\", \"system\", \"brown\", \"development\", \"market\", \"company\", \"1961\", \"small\", \"program\", \"research\", \"state\", \"military\", \"000\", \"service\", \"general\", \"mr\", \"high\", \"khrushchev\", \"rayburn\", \"congo\", \"republican\", \"moscow\", \"castro\", \"troops\", \"alexander\", \"democrats\", \"communists\", \"democratic\", \"laos\", \"cuban\", \"soviet\", \"opposition\", \"katanga\", \"bombs\", \"berlin\", \"nixon\", \"propaganda\", \"cuba\", \"allies\", \"viet\", \"eisenhower\", \"violence\", \"geneva\", \"nam\", \"hammarskjold\", \"conservative\", \"gop\", \"crisis\", \"join\", \"premier\", \"china\", \"communist\", \"political\", \"kennedy\", \"nations\", \"mayor\", \"west\", \"war\", \"east\", \"russia\", \"president\", \"vote\", \"council\", \"party\", \"mr\", \"bridge\", \"speaker\", \"leaders\", \"american\", \"nuclear\", \"committee\", \"united\", \"meeting\", \"world\", \"city\", \"government\", \"public\", \"people\", \"administration\", \"states\", \"said\", \"house\", \"state\", \"country\", \"man\", \"000\", \"great\", \"week\", \"academic\", \"meat\", \"trustees\", \"campus\", \"faculty\", \"feed\", \"classical\", \"professors\", \"musical\", \"chamber\", \"mathematics\", \"versions\", \"recognition\", \"teachers\", \"colleges\", \"contemporary\", \"reunion\", \"cattle\", \"collective\", \"catholic\", \"inspired\", \"prestige\", \"fulfill\", \"symphony\", \"creative\", \"curriculum\", \"chemical\", \"dilemma\", \"bargaining\", \"bible\", \"music\", \"artist\", \"membership\", \"college\", \"student\", \"students\", \"orchestra\", \"trust\", \"interior\", \"university\", \"art\", \"schools\", \"daily\", \"engineer\", \"version\", \"pool\", \"design\", \"performance\", \"education\", \"members\", \"anti\", \"technical\", \"religious\", \"work\", \"school\", \"level\", \"labor\", \"president\", \"staff\", \"good\", \"board\", \"american\", \"men\", \"high\", \"world\", \"family\", \"head\", \"problem\", \"people\", \"bonds\", \"revenues\", \"rehabilitation\", \"vehicles\", \"wildlife\", \"payments\", \"vocational\", \"adjustments\", \"thereof\", \"customer\", \"1952\", \"assigned\", \"calendar\", \"payment\", \"taxes\", \"exemption\", \"payroll\", \"bond\", \"municipalities\", \"insurance\", \"vehicle\", \"commodities\", \"provisions\", \"puerto\", \"rico\", \"filing\", \"trial\", \"gross\", \"appropriated\", \"accomplish\", \"taxpayers\", \"attorney\", \"tax\", \"fiscal\", \"shall\", \"acres\", \"interference\", \"india\", \"authorized\", \"treasury\", \"transportation\", \"stations\", \"roads\", \"states\", \"claim\", \"state\", \"income\", \"act\", \"department\", \"federal\", \"united\", \"countries\", \"commission\", \"secretary\", \"government\", \"term\", \"hearing\", \"pay\", \"costs\", \"development\", \"000\", \"court\", \"class\", \"local\", \"use\", \"program\", \"board\", \"million\", \"service\", \"section\", \"services\", \"plan\", \"law\", \"general\", \"public\", \"national\", \"interest\", \"boy\", \"wasn\", \"woman\", \"walked\", \"baseball\", \"baby\", \"hair\", \"bed\", \"hadn\", \"clothes\", \"couldn\", \"games\", \"ll\", \"ball\", \"nice\", \"pale\", \"yards\", \"cousin\", \"football\", \"breakfast\", \"yankees\", \"coach\", \"george\", \"player\", \"bedroom\", \"snow\", \"mother\", \"looked\", \"ham\", \"waited\", \"didn\", \"got\", \"girl\", \"hit\", \"sat\", \"went\", \"league\", \"thought\", \"game\", \"said\", \"team\", \"knew\", \"eyes\", \"told\", \"night\", \"room\", \"ve\", \"don\", \"came\", \"old\", \"little\", \"won\", \"know\", \"man\", \"home\", \"away\", \"left\", \"took\", \"come\", \"young\", \"good\", \"way\", \"day\", \"going\", \"mrs\", \"right\", \"john\", \"think\", \"people\"], \"Freq\": [299.0, 800.0, 486.0, 334.0, 175.0, 387.0, 302.0, 160.0, 95.0, 296.0, 122.0, 79.0, 252.0, 168.0, 126.0, 198.0, 110.0, 116.0, 57.0, 147.0, 66.0, 128.0, 95.0, 188.0, 177.0, 275.0, 231.0, 122.0, 131.0, 155.0, 54.51292270523165, 29.723470523067807, 18.647067269724907, 6.526068245882335, 12.197091395248375, 13.685983475464797, 44.09934530335639, 6.4186748913087515, 28.08990204040811, 4.786419067936915, 4.7832680476630465, 24.69514656390804, 10.178004431341684, 4.699111003001725, 24.227685530676005, 16.984257668868963, 16.70716354844006, 29.52947493418058, 11.15576431821359, 16.996865299381582, 19.204858222475774, 7.368947038984383, 61.83855914051393, 18.137814476211517, 51.23332045795008, 7.195478368726069, 39.461358663492504, 6.460447891650332, 17.158534110634573, 12.811117547667697, 15.95189642074705, 23.638697816610296, 22.13750009474729, 166.63120736815912, 14.565646168780164, 25.158288571472717, 35.82398370091229, 48.22792555850298, 65.85212998009106, 24.487976539954502, 33.18359261170018, 21.588947532747696, 47.12088405249723, 24.917528667635175, 59.12711173989588, 50.49089887951418, 28.709555259512218, 45.72101331089415, 31.13557835308495, 24.002379735909077, 46.667370446212615, 29.803709078509193, 28.430085937173853, 34.110915642819776, 33.9362154509307, 29.189530341399976, 26.30766119615769, 26.61539916975099, 25.39795075395009, 38.00249693094488, 25.704443880234457, 43.653369766386795, 18.860578122563055, 10.55075281200037, 13.17418485322641, 47.84985549702678, 51.22615432572248, 36.31917708776263, 29.249147820390608, 17.09966969229791, 7.692676470042859, 20.535725878244225, 6.780771326879, 6.779426576124479, 22.74930168076114, 5.834524139952587, 5.83310916675651, 5.777076938653017, 26.962066292268293, 4.886335933535528, 4.865905690159147, 16.97260901972203, 28.24093785709243, 15.925166883190412, 14.226160730504748, 34.76939251726609, 31.296981691504932, 12.376846639055739, 16.9767992508381, 47.02725864447743, 29.69907465738526, 87.66632634869362, 71.99857640896288, 58.410320985091545, 63.479671253261266, 75.79413136756436, 47.30075117943081, 90.5558754305371, 30.185666953971708, 70.4750456882453, 75.72252651605805, 62.27823372331361, 55.84316492570249, 51.412349579300376, 108.22328977052103, 48.85946420421522, 73.78554655774029, 57.223933956444114, 89.46450507713081, 53.84326951825263, 67.85938342384263, 59.734599615456986, 81.34551541856537, 80.15793263954883, 52.09867598117444, 107.09577176137694, 56.53526374007516, 80.69387928243181, 63.87901158384669, 59.987598970549534, 53.05461739552209, 49.26453917127836, 72.91303803878738, 46.36890134586373, 43.41905643092967, 39.48361785408414, 37.521152122999, 29.655675547682286, 26.706362462840385, 24.72667008210294, 23.75774609724678, 23.756330378539992, 59.783574550069844, 49.20982231879068, 20.80552368898305, 78.42594257335483, 20.79012356811669, 19.82440909090678, 18.83614184223889, 62.96146860634626, 16.870618097323888, 15.87955224227197, 36.39590669449349, 14.909595270234185, 14.90959064550556, 38.14870484583049, 13.924247160557742, 12.943841605475335, 12.943331135887895, 12.94332287540487, 12.942824934674924, 12.94254810900978, 28.36256773356508, 24.63744255331222, 23.689243952633287, 31.568141917276577, 65.41931738695861, 72.31558992935406, 108.88370713526471, 68.4840124064175, 39.614153509310604, 85.46546377265207, 106.47521049183126, 73.50556394215792, 38.3456909588672, 184.60079969410975, 46.44244391073434, 57.610150134654575, 78.48980256599982, 213.41539831252126, 42.98920128147717, 35.94069360301106, 43.01467631521359, 124.14934063004425, 54.177510235581465, 67.43305657527316, 126.26896114841041, 61.183404854979166, 106.33099645296562, 96.07929239529983, 96.53115518428724, 78.5357477066944, 87.77355538395706, 64.42227267417887, 92.06833300124882, 121.10033213860402, 74.35358693045534, 92.06766741214506, 63.6552857823857, 73.22651721842716, 67.9967571256758, 64.35337306326394, 63.41235109278811, 28.458497957327904, 21.77805005446332, 18.904045642119943, 15.249714715505954, 49.071356902739815, 89.1656945948066, 9.583802902363031, 8.639425288942215, 18.980271524042145, 24.892362576940762, 7.701042129847348, 6.757082853935955, 15.170931703187515, 30.246613977620076, 18.3737212630597, 15.81196249488707, 5.772230320953188, 17.842280422049726, 10.507825853577913, 26.553094198175106, 7.1557705358085535, 10.328377991110111, 6.295733348904955, 14.173618905088842, 13.327106485079073, 7.009450434233448, 22.45627916410739, 8.526531280438444, 10.84678304968934, 19.905283955258376, 47.705236275506174, 13.619384381266062, 19.418316940339075, 88.06409998627757, 53.89561433120323, 51.724814353119825, 16.34116546889004, 27.974851072160117, 29.73311515586949, 72.6064412156489, 37.4462405329835, 52.33201959489438, 34.08717773098684, 23.341265972979617, 22.220863914525022, 42.24288365566944, 40.384515123914305, 27.987413357927736, 40.69344613402702, 52.74082915828995, 31.61027087671236, 30.895285463043873, 24.478176414308493, 61.75496396295807, 49.48520549184383, 34.616880398504485, 30.96295877342169, 53.645081159880576, 30.349509902351123, 46.22865843574041, 39.1468512220045, 43.20037866198129, 39.17234703407379, 37.887931135626914, 38.51091840626708, 33.444472017389, 33.185939055174345, 31.89568883065161, 31.597969352955193, 31.56350632744277, 20.137915362246943, 18.241177275094746, 40.87959805078209, 16.334537362006788, 38.90936904074446, 13.48003326629892, 12.504494917743804, 11.579024704088349, 11.570763678704479, 11.528498113239744, 10.621191348768999, 22.046346462338214, 38.817089351590226, 23.81190366718421, 9.6619508323476, 13.99827418739018, 13.107802816342758, 8.720865895415528, 31.34863940370898, 20.00112387286523, 15.621537987269283, 21.684939773784457, 18.241144558098533, 18.24114450252736, 16.467406898610662, 32.90567992746295, 19.950698942825724, 7.769672606854032, 7.767713608925504, 18.109483328599637, 35.17672187118692, 154.65826650664724, 96.80838517487445, 110.40200030663419, 28.281004240166425, 32.32632938470031, 32.44822490550824, 26.539703167186314, 24.243911156589498, 28.62627560227263, 47.81213364102751, 36.000243819929146, 212.2323178095138, 35.831656218209474, 260.76827796654527, 58.64673600741881, 82.65839730027638, 95.11973930368717, 73.07327560337336, 146.2695749747463, 54.411485743887695, 48.20398520332789, 69.91679666100461, 121.85776626107952, 45.33857832011381, 37.82127598271238, 59.68899651275263, 50.08569934692667, 87.36860352110696, 104.22356713467684, 59.18181372765685, 56.424791857750094, 63.18420872554972, 89.79354010672688, 82.44428477041161, 71.6188040386217, 61.72272640344343, 74.66818047133779, 48.6865145827197, 50.02879385023021, 53.235269329660426, 50.59946862663842, 57.780074520219145, 57.599010488240715, 51.0270246764031, 50.21587218473384, 82.39991293246665, 57.92524434186422, 54.927031211184186, 47.15037435771206, 39.32477714372415, 35.409121012259035, 35.40908060408415, 35.406224828653045, 31.49321644309041, 32.42270510598126, 52.44257522039789, 30.51132893145847, 163.9539638308168, 61.815053115914424, 27.575978311753335, 26.597165509557815, 26.596271614411368, 26.593507638907845, 25.61608926632008, 25.610867288661666, 25.610228998077115, 22.679100758898592, 49.9530390931718, 47.14200142345793, 20.718956883515855, 20.716656612983698, 94.04743946558823, 82.82913978190798, 19.733300944775756, 18.765024394432732, 118.570094557529, 139.44726365740365, 43.84269826527348, 55.58418897504183, 36.32797628355352, 125.55443340100729, 56.824440885544426, 126.27636585638169, 82.13319843665485, 626.4726106875326, 53.46534051219515, 81.01260647221416, 87.12062205389324, 96.16347381578974, 126.31871715431748, 88.92690820495879, 74.57397071939012, 141.990452530088, 130.47214491795685, 186.6996254416949, 175.85493185369185, 76.48464545651846, 143.50002067868127, 175.54539927233742, 162.87880673702182, 93.94342312539328, 112.60654604907927, 90.23372363378124, 118.56569726552495, 97.07207180911261, 158.63587225349542, 143.96260107320452, 151.81496819059078, 94.14860938416808, 128.89714577414105, 111.60373068953014, 100.11674797949236, 92.9886780847537, 96.37467514338331], \"Total\": [299.0, 800.0, 486.0, 334.0, 175.0, 387.0, 302.0, 160.0, 95.0, 296.0, 122.0, 79.0, 252.0, 168.0, 126.0, 198.0, 110.0, 116.0, 57.0, 147.0, 66.0, 128.0, 95.0, 188.0, 177.0, 275.0, 231.0, 122.0, 131.0, 155.0, 57.63265936798806, 32.589407029655995, 20.480452513702158, 7.4463878074147365, 13.94945361377649, 15.86529467250442, 51.14562622651266, 7.4491538362666825, 32.648424083546395, 5.590099951425628, 5.590111320379524, 28.948114659407402, 12.104632423217206, 5.591634964189969, 28.974147972166293, 20.51483315075023, 20.585234595034148, 36.41534830093231, 14.003748230434807, 21.422483542886106, 24.239531382736864, 9.361221233280546, 79.66934384787506, 23.460570215853227, 66.2918128036469, 9.370966976884286, 51.50928904797904, 8.433231209647133, 22.490466203747943, 16.8879157367295, 21.60671831995385, 32.63867882238773, 30.824112956912714, 299.03815090251896, 19.744112187911846, 37.72931879057449, 59.422539624056505, 95.80809262374424, 160.4149054052353, 41.42044470814768, 65.46491551063518, 35.56928660706435, 143.95266359956565, 49.22632848157739, 252.43004293402655, 188.60735138239676, 73.17286785336182, 231.64474784897848, 98.60988973787683, 50.62578152805378, 387.80463074968554, 118.84459905883891, 115.2656975635497, 265.7722666379683, 306.5836131150874, 274.4956714266591, 167.4492275100666, 257.2522335917422, 129.49383482396215, 38.80266354150527, 26.502174063479497, 45.42318659500809, 19.886467123771112, 11.363297505157657, 14.19727315493607, 52.18117775564768, 55.98241905188848, 39.74131498554961, 32.2528013066984, 18.938731549318444, 8.52492937183261, 22.77141061563948, 7.578407696655947, 7.5784517399621185, 25.62573965296228, 6.632217218279393, 6.632269664031019, 6.634105587208682, 31.276223237776264, 5.686052855764229, 5.6861369142242655, 19.92432855309334, 33.19592515897518, 18.90803274573114, 17.04386949436202, 41.67670715512101, 37.8900348807736, 15.159475308484751, 20.81638662269793, 58.85044772405344, 37.041304134209255, 116.59979108439859, 95.82869982334752, 77.55570061959016, 85.32075590645977, 103.85317325921126, 62.82835895447747, 128.57946516973226, 39.0676283447302, 100.38308981680936, 119.03665494638818, 94.84778133002557, 84.3870330263488, 76.80000443127446, 208.6530014318152, 75.32318454752689, 141.71435862820374, 98.22467294498831, 198.07784415130013, 94.81304265619443, 138.18191503078194, 114.36272193034259, 209.4642667617769, 229.6044584360213, 102.48296812173275, 486.7362099929424, 122.31325163538561, 280.4184644760442, 204.36214817124065, 200.17424679287498, 387.80463074968554, 217.65738761624067, 73.70469046429614, 47.16089794090993, 44.21157240988335, 40.27907372137055, 38.31298105834756, 30.448141372882873, 27.498830995578782, 25.53252633463794, 24.549541893003415, 24.549488854360725, 61.8537794375751, 51.058477178224706, 21.600127821117194, 81.47474541745176, 21.599664639768662, 20.617091812819165, 19.633970626781284, 65.75577743739606, 17.667775846375413, 16.68422292222286, 38.277060914471704, 15.701607192763513, 15.70160926519921, 40.23645222070523, 14.71850461369931, 13.735414352717259, 13.735402454290934, 13.735398097391425, 13.735382987985213, 13.735392004250148, 30.398064445928057, 26.474887075565206, 25.49029365956323, 34.33638602058673, 74.40909061263132, 84.12317170465535, 131.86555122650017, 80.16082564830474, 45.127680210429034, 107.54052471703082, 147.31550602575112, 95.77341002133176, 45.00143490179355, 296.8452474406399, 56.65186733594063, 74.01096277666291, 109.26583937570948, 387.80463074968554, 52.59847360056098, 42.057608282761365, 54.88403699600724, 263.5959802763177, 78.67832167136028, 110.22753762604162, 302.68687199898926, 98.6674183609596, 255.9179122448257, 215.53827350174046, 275.9485155285312, 200.89948001986616, 265.6197109247496, 133.04313539941543, 334.0313547632238, 800.7707095427398, 231.64474784897848, 486.7362099929424, 144.59912222233217, 282.94863423750587, 280.4184644760442, 202.32226165567386, 189.78343097003028, 29.25976727228641, 22.658331646310042, 19.82715570222847, 16.050950212902436, 51.97997753227413, 95.46939337610155, 10.390241314058775, 9.446526168587074, 20.77112741497698, 27.40616424211389, 8.503117283531113, 7.559489173805331, 17.00327156390246, 34.087508751716605, 20.79372053371469, 17.955539045989653, 6.6164772034950055, 20.732479604911745, 12.317571681580123, 31.289754827406526, 8.52354549862597, 12.325182156330447, 7.5769855125858925, 17.070614743231978, 16.057546437784506, 8.504997702826076, 27.38448986508562, 10.429936270358482, 13.279708492916958, 24.651749384543415, 60.622375429084, 16.977769057581085, 24.69854644461622, 122.67430626812015, 73.10034707344889, 70.19713430453793, 20.72431735759645, 37.927427961118106, 40.66377900955645, 122.86380744983612, 58.1382188901771, 90.31481026573337, 53.210066588141665, 33.00553439128178, 31.325829570155484, 76.77215761453103, 74.31761740767465, 44.70413771037208, 85.22489891034247, 139.98970184395114, 58.53588876585933, 57.68147759704692, 37.26985323199588, 257.2522335917422, 171.50404346904463, 83.15277533874783, 68.96301906255145, 296.8452474406399, 67.62295592210398, 306.5836131150874, 174.1942267150403, 263.5959802763177, 192.9012041477095, 217.65738761624067, 255.9179122448257, 129.49383482396215, 134.9775164476593, 118.36701141034625, 265.6197109247496, 32.36192812964491, 20.9413600211802, 19.037808516500334, 42.86854784893288, 17.134343275003783, 40.92032600439037, 14.279258566729043, 13.327328106304954, 12.375750513972509, 12.375797230405686, 12.377181524712817, 11.424136894393804, 23.77166563766754, 41.86596851545884, 25.731156352283488, 10.472225168748858, 15.243395935933222, 14.289933279084293, 9.52061619618338, 34.24705432376062, 21.929007946637306, 17.130208372597526, 23.785162899790546, 20.01680583359924, 20.016805813491526, 18.081327062232415, 36.15959793741403, 21.925869264299905, 8.568872644287254, 8.56896503075899, 19.980250283057668, 39.111021347253406, 175.94902200278486, 110.328741806275, 126.98277686956476, 31.475902680600285, 36.192344145561286, 37.12804924199786, 30.437515547343644, 27.687678583208104, 33.31070523879865, 59.242385836777125, 43.68943012791625, 334.0313547632238, 43.792838185132815, 486.7362099929424, 81.74937122999285, 130.51328878379948, 155.91899994841495, 113.49683636526697, 302.68687199898926, 84.49332112465122, 71.93302241385652, 122.24689746626318, 275.9485155285312, 66.73428174014708, 51.683206397974544, 105.05812114545347, 80.51613830542871, 198.07784415130013, 280.4184644760442, 107.00860879149255, 99.92186796747629, 128.28707174513897, 252.43004293402655, 229.6044584360213, 174.1942267150403, 128.90293088077595, 204.36214817124065, 82.5450659326849, 94.2756272521487, 119.0376503008305, 98.70175730273684, 200.17424679287498, 200.89948001986616, 213.56568800690417, 133.93946002269178, 83.19684382793051, 58.7201300565519, 55.779698638529695, 47.95036438189332, 40.11782421453645, 36.201559662463914, 36.2015556804412, 36.20144578739405, 32.285295511727305, 33.26174425830222, 53.80830956162229, 31.306119774089925, 168.228491359175, 63.56186556943018, 28.368996462036677, 27.389920773409358, 27.38988721033728, 27.389817192779795, 26.410819967922265, 26.4106993795992, 26.410624628412535, 23.47359958961759, 51.829070932723674, 48.933572703532825, 21.515328188346697, 21.515344421943944, 97.73020415844941, 86.10324551515632, 20.535912786213498, 19.55739366170107, 125.22008718488937, 147.84657493494817, 45.99107578358902, 58.65454790301729, 38.12193023962161, 137.89720279982674, 60.58071371874474, 140.46880380916036, 90.84790363253786, 800.7707095427398, 57.63250760537597, 90.92580429344639, 98.83332868846979, 111.64456104287879, 152.14352908517873, 103.21703220311107, 84.70355585240407, 177.6385598806018, 162.95387393535617, 254.60969924661816, 238.64072823258937, 88.83921406907223, 192.09515851273, 282.94863423750587, 265.7722666379683, 123.94926128711168, 162.96847209909458, 121.08046650608118, 185.96303107985227, 136.00888957296257, 306.5836131150874, 274.4956714266591, 303.09624410712297, 133.77339789304614, 299.03815090251896, 214.03343880608207, 169.36727948368292, 134.86697842081838, 265.6197109247496], \"Category\": [\"Default\", \"Default\", \"Default\", \"Default\", \"Default\", \"Default\", \"Default\", \"Default\", \"Default\", \"Default\", \"Default\", \"Default\", \"Default\", \"Default\", \"Default\", \"Default\", \"Default\", \"Default\", \"Default\", \"Default\", \"Default\", \"Default\", \"Default\", \"Default\", \"Default\", \"Default\", \"Default\", \"Default\", \"Default\", \"Default\", \"Topic1\", \"Topic1\", \"Topic1\", \"Topic1\", \"Topic1\", \"Topic1\", \"Topic1\", \"Topic1\", \"Topic1\", \"Topic1\", \"Topic1\", \"Topic1\", \"Topic1\", \"Topic1\", \"Topic1\", \"Topic1\", \"Topic1\", \"Topic1\", \"Topic1\", \"Topic1\", \"Topic1\", \"Topic1\", \"Topic1\", \"Topic1\", \"Topic1\", \"Topic1\", \"Topic1\", \"Topic1\", \"Topic1\", \"Topic1\", \"Topic1\", \"Topic1\", \"Topic1\", \"Topic1\", \"Topic1\", \"Topic1\", \"Topic1\", \"Topic1\", \"Topic1\", \"Topic1\", \"Topic1\", \"Topic1\", \"Topic1\", \"Topic1\", \"Topic1\", \"Topic1\", \"Topic1\", \"Topic1\", \"Topic1\", \"Topic1\", \"Topic1\", \"Topic1\", \"Topic1\", \"Topic1\", \"Topic1\", \"Topic1\", \"Topic1\", \"Topic1\", \"Topic1\", \"Topic2\", \"Topic2\", \"Topic2\", \"Topic2\", \"Topic2\", \"Topic2\", \"Topic2\", \"Topic2\", \"Topic2\", \"Topic2\", \"Topic2\", \"Topic2\", \"Topic2\", \"Topic2\", \"Topic2\", \"Topic2\", \"Topic2\", \"Topic2\", \"Topic2\", \"Topic2\", \"Topic2\", \"Topic2\", \"Topic2\", \"Topic2\", \"Topic2\", \"Topic2\", \"Topic2\", \"Topic2\", \"Topic2\", \"Topic2\", \"Topic2\", \"Topic2\", \"Topic2\", \"Topic2\", \"Topic2\", \"Topic2\", \"Topic2\", \"Topic2\", \"Topic2\", \"Topic2\", \"Topic2\", \"Topic2\", \"Topic2\", \"Topic2\", \"Topic2\", \"Topic2\", \"Topic2\", \"Topic2\", \"Topic2\", \"Topic2\", \"Topic2\", \"Topic2\", \"Topic2\", \"Topic2\", \"Topic2\", \"Topic2\", \"Topic2\", \"Topic2\", \"Topic2\", \"Topic2\", \"Topic2\", \"Topic2\", \"Topic2\", \"Topic3\", \"Topic3\", \"Topic3\", \"Topic3\", \"Topic3\", \"Topic3\", \"Topic3\", \"Topic3\", \"Topic3\", \"Topic3\", \"Topic3\", \"Topic3\", \"Topic3\", \"Topic3\", \"Topic3\", \"Topic3\", \"Topic3\", \"Topic3\", \"Topic3\", \"Topic3\", \"Topic3\", \"Topic3\", \"Topic3\", \"Topic3\", \"Topic3\", \"Topic3\", \"Topic3\", \"Topic3\", \"Topic3\", \"Topic3\", \"Topic3\", \"Topic3\", \"Topic3\", \"Topic3\", \"Topic3\", \"Topic3\", \"Topic3\", \"Topic3\", \"Topic3\", \"Topic3\", \"Topic3\", \"Topic3\", \"Topic3\", \"Topic3\", \"Topic3\", \"Topic3\", \"Topic3\", \"Topic3\", \"Topic3\", \"Topic3\", \"Topic3\", \"Topic3\", \"Topic3\", \"Topic3\", \"Topic3\", \"Topic3\", \"Topic3\", \"Topic3\", \"Topic3\", \"Topic3\", \"Topic3\", \"Topic3\", \"Topic3\", \"Topic3\", \"Topic3\", \"Topic3\", \"Topic3\", \"Topic3\", \"Topic3\", \"Topic3\", \"Topic3\", \"Topic4\", \"Topic4\", \"Topic4\", \"Topic4\", \"Topic4\", \"Topic4\", \"Topic4\", \"Topic4\", \"Topic4\", \"Topic4\", \"Topic4\", \"Topic4\", \"Topic4\", \"Topic4\", \"Topic4\", \"Topic4\", \"Topic4\", \"Topic4\", \"Topic4\", \"Topic4\", \"Topic4\", \"Topic4\", \"Topic4\", \"Topic4\", \"Topic4\", \"Topic4\", \"Topic4\", \"Topic4\", \"Topic4\", \"Topic4\", \"Topic4\", \"Topic4\", \"Topic4\", \"Topic4\", \"Topic4\", \"Topic4\", \"Topic4\", \"Topic4\", \"Topic4\", \"Topic4\", \"Topic4\", \"Topic4\", \"Topic4\", \"Topic4\", \"Topic4\", \"Topic4\", \"Topic4\", \"Topic4\", \"Topic4\", \"Topic4\", \"Topic4\", \"Topic4\", \"Topic4\", \"Topic4\", \"Topic4\", \"Topic4\", \"Topic4\", \"Topic4\", \"Topic4\", \"Topic4\", \"Topic4\", \"Topic4\", \"Topic4\", \"Topic4\", \"Topic4\", \"Topic4\", \"Topic4\", \"Topic4\", \"Topic4\", \"Topic5\", \"Topic5\", \"Topic5\", \"Topic5\", \"Topic5\", \"Topic5\", \"Topic5\", \"Topic5\", \"Topic5\", \"Topic5\", \"Topic5\", \"Topic5\", \"Topic5\", \"Topic5\", \"Topic5\", \"Topic5\", \"Topic5\", \"Topic5\", \"Topic5\", \"Topic5\", \"Topic5\", \"Topic5\", \"Topic5\", \"Topic5\", \"Topic5\", \"Topic5\", \"Topic5\", \"Topic5\", \"Topic5\", \"Topic5\", \"Topic5\", \"Topic5\", \"Topic5\", \"Topic5\", \"Topic5\", \"Topic5\", \"Topic5\", \"Topic5\", \"Topic5\", \"Topic5\", \"Topic5\", \"Topic5\", \"Topic5\", \"Topic5\", \"Topic5\", \"Topic5\", \"Topic5\", \"Topic5\", \"Topic5\", \"Topic5\", \"Topic5\", \"Topic5\", \"Topic5\", \"Topic5\", \"Topic5\", \"Topic5\", \"Topic5\", \"Topic5\", \"Topic5\", \"Topic5\", \"Topic5\", \"Topic5\", \"Topic5\", \"Topic5\", \"Topic5\", \"Topic5\", \"Topic5\", \"Topic5\", \"Topic5\", \"Topic5\", \"Topic5\", \"Topic5\", \"Topic5\", \"Topic5\", \"Topic5\", \"Topic5\", \"Topic5\", \"Topic6\", \"Topic6\", \"Topic6\", \"Topic6\", \"Topic6\", \"Topic6\", \"Topic6\", \"Topic6\", \"Topic6\", \"Topic6\", \"Topic6\", \"Topic6\", \"Topic6\", \"Topic6\", \"Topic6\", \"Topic6\", \"Topic6\", \"Topic6\", \"Topic6\", \"Topic6\", \"Topic6\", \"Topic6\", \"Topic6\", \"Topic6\", \"Topic6\", \"Topic6\", \"Topic6\", \"Topic6\", \"Topic6\", \"Topic6\", \"Topic6\", \"Topic6\", \"Topic6\", \"Topic6\", \"Topic6\", \"Topic6\", \"Topic6\", \"Topic6\", \"Topic6\", \"Topic6\", \"Topic6\", \"Topic6\", \"Topic6\", \"Topic6\", \"Topic6\", \"Topic6\", \"Topic6\", \"Topic6\", \"Topic6\", \"Topic6\", \"Topic6\", \"Topic6\", \"Topic6\", \"Topic6\", \"Topic6\", \"Topic6\", \"Topic6\", \"Topic6\", \"Topic6\", \"Topic6\", \"Topic6\", \"Topic6\", \"Topic6\", \"Topic6\", \"Topic6\", \"Topic6\", \"Topic6\", \"Topic6\", \"Topic6\"], \"logprob\": [30.0, 29.0, 28.0, 27.0, 26.0, 25.0, 24.0, 23.0, 22.0, 21.0, 20.0, 19.0, 18.0, 17.0, 16.0, 15.0, 14.0, 13.0, 12.0, 11.0, 10.0, 9.0, 8.0, 7.0, 6.0, 5.0, 4.0, 3.0, 2.0, 1.0, -5.1334, -5.7399, -6.2062, -7.2561, -6.6307, -6.5155, -5.3454, -7.2727, -5.7965, -7.5661, -7.5667, -5.9253, -6.8116, -7.5845, -5.9444, -6.2996, -6.316, -5.7465, -6.7199, -6.2988, -6.1767, -7.1346, -5.0073, -6.2339, -5.1955, -7.1584, -5.4566, -7.2662, -6.2894, -6.5816, -6.3623, -5.969, -6.0346, -4.0161, -6.4532, -5.9067, -5.5533, -5.2559, -4.9445, -5.9337, -5.6298, -6.0597, -5.2792, -5.9163, -5.0522, -5.2101, -5.7746, -5.3093, -5.6935, -5.9537, -5.2888, -5.7372, -5.7844, -5.6023, -5.6074, -5.7581, -5.862, -5.8504, -5.8972, -6.1898, -6.5808, -6.0511, -6.8904, -7.4712, -7.2492, -5.9594, -5.8912, -6.2351, -6.4516, -6.9884, -7.7872, -6.8053, -7.9133, -7.9135, -6.7029, -8.0636, -8.0639, -8.0735, -6.533, -8.241, -8.2452, -6.9958, -6.4867, -7.0595, -7.1723, -6.2787, -6.3839, -7.3116, -6.9956, -5.9767, -6.4363, -5.3539, -5.5508, -5.7599, -5.6767, -5.4994, -5.9709, -5.3215, -6.4201, -5.5722, -5.5004, -5.6958, -5.8049, -5.8876, -5.1432, -5.9385, -5.5263, -5.7805, -5.3336, -5.8414, -5.61, -5.7375, -5.4287, -5.4434, -5.8743, -5.1537, -5.7926, -5.4368, -5.6704, -5.7333, -5.8561, -5.9302, -5.7971, -6.2497, -6.3154, -6.4105, -6.4614, -6.6967, -6.8014, -6.8785, -6.9184, -6.9185, -5.9956, -6.1902, -7.0511, -5.7242, -7.0519, -7.0994, -7.1506, -5.9438, -7.2608, -7.3213, -6.4919, -7.3843, -7.3843, -6.4448, -7.4527, -7.5257, -7.5258, -7.5258, -7.5258, -7.5258, -6.7413, -6.8821, -6.9213, -6.6342, -5.9055, -5.8053, -5.3961, -5.8597, -6.4072, -5.6382, -5.4184, -5.789, -6.4397, -4.8681, -6.2481, -6.0326, -5.7234, -4.7231, -6.3254, -6.5045, -6.3248, -5.2649, -6.0941, -5.8752, -5.2479, -5.9725, -5.4198, -5.5212, -5.5165, -5.7228, -5.6116, -5.9209, -5.5638, -5.2897, -5.7775, -5.5638, -5.9329, -5.7928, -5.8669, -5.9219, -5.9367, -6.2426, -6.5101, -6.6516, -6.8665, -5.6977, -5.1005, -7.3309, -7.4347, -6.6476, -6.3765, -7.5497, -7.6804, -6.8716, -6.1816, -6.6801, -6.8303, -7.838, -6.7095, -7.2389, -6.3119, -7.6231, -7.2561, -7.7512, -6.9396, -7.0012, -7.6438, -6.4795, -7.4478, -7.2072, -6.6, -5.726, -6.9795, -6.6248, -5.113, -5.604, -5.6451, -6.7973, -6.2597, -6.1988, -5.306, -5.9681, -5.6334, -6.0621, -6.4408, -6.49, -5.8476, -5.8926, -6.2593, -5.885, -5.6256, -6.1375, -6.1604, -6.3932, -5.4679, -5.6894, -6.0467, -6.1582, -5.6086, -6.1782, -5.7574, -5.9237, -5.8252, -5.9231, -5.9564, -5.9401, -6.0811, -6.0889, -6.1286, -6.1379, -6.5131, -6.9625, -7.0614, -6.2545, -7.1718, -6.3039, -7.3639, -7.439, -7.5159, -7.5166, -7.5203, -7.6022, -6.8719, -6.3062, -6.7949, -7.6969, -7.3262, -7.3919, -7.7994, -6.5199, -6.9693, -7.2164, -6.8885, -7.0614, -7.0614, -7.1637, -6.4714, -6.9718, -7.9149, -7.9151, -7.0687, -6.4047, -4.9239, -5.3924, -5.261, -6.6229, -6.4892, -6.4854, -6.6865, -6.7769, -6.6108, -6.0978, -6.3816, -4.6074, -6.3863, -4.4015, -5.8936, -5.5504, -5.41, -5.6736, -4.9796, -5.9685, -6.0897, -5.7178, -5.1622, -6.1509, -6.3322, -5.8759, -6.0514, -5.495, -5.3186, -5.8845, -5.9322, -5.819, -5.4676, -5.553, -5.6937, -5.8424, -5.652, -6.0797, -6.0525, -5.9904, -6.0412, -5.9084, -5.9116, -6.0327, -6.0488, -6.1061, -6.4586, -6.5117, -6.6644, -6.8459, -6.9508, -6.9508, -6.9508, -7.068, -7.0389, -6.558, -7.0996, -5.4181, -6.3936, -7.2008, -7.2369, -7.237, -7.2371, -7.2745, -7.2747, -7.2747, -7.3963, -6.6066, -6.6646, -7.4867, -7.4868, -5.9739, -6.1009, -7.5354, -7.5857, -5.7422, -5.58, -6.7371, -6.4998, -6.9251, -5.685, -6.4778, -5.6793, -6.1094, -4.0776, -6.5387, -6.1231, -6.0504, -5.9517, -5.6789, -6.0299, -6.2059, -5.562, -5.6466, -5.2882, -5.3481, -6.1806, -5.5514, -5.3498, -5.4247, -5.975, -5.7938, -6.0153, -5.7423, -5.9423, -5.4511, -5.5482, -5.4951, -5.9729, -5.6587, -5.8028, -5.9114, -5.9853, -5.9495], \"loglift\": [30.0, 29.0, 28.0, 27.0, 26.0, 25.0, 24.0, 23.0, 22.0, 21.0, 20.0, 19.0, 18.0, 17.0, 16.0, 15.0, 14.0, 13.0, 12.0, 11.0, 10.0, 9.0, 8.0, 7.0, 6.0, 5.0, 4.0, 3.0, 2.0, 1.0, 2.5458, 2.5094, 2.5077, 2.4696, 2.4672, 2.4537, 2.4533, 2.4526, 2.4511, 2.4463, 2.4456, 2.4426, 2.4281, 2.4276, 2.4226, 2.4126, 2.3928, 2.3919, 2.3741, 2.3701, 2.3687, 2.3622, 2.3481, 2.3442, 2.3438, 2.3373, 2.335, 2.335, 2.3309, 2.3252, 2.2981, 2.2789, 2.2705, 2.0167, 2.2973, 2.1962, 2.0954, 1.9151, 1.7111, 2.0759, 1.922, 2.1022, 1.4847, 1.9206, 1.15, 1.2836, 1.6659, 0.9788, 1.4487, 1.8552, 0.484, 1.2183, 1.2017, 0.5485, 0.4005, 0.3604, 0.7507, 0.3329, 0.9725, 1.8851, 1.8754, 1.8662, 1.853, 1.8317, 1.8311, 1.8193, 1.8171, 1.8159, 1.8082, 1.8038, 1.8032, 1.8026, 1.7947, 1.7945, 1.7869, 1.7778, 1.7775, 1.7676, 1.7575, 1.7544, 1.7502, 1.7456, 1.7443, 1.7342, 1.7252, 1.7247, 1.7148, 1.7031, 1.702, 1.6817, 1.685, 1.6207, 1.62, 1.6224, 1.6102, 1.591, 1.6221, 1.5554, 1.648, 1.5522, 1.4536, 1.4853, 1.4931, 1.5046, 1.2495, 1.4731, 1.2533, 1.3656, 1.1111, 1.3401, 1.1948, 1.2565, 0.9601, 0.8536, 1.2294, 0.3919, 1.1342, 0.6603, 0.743, 0.7009, -0.0832, 0.4202, 1.6362, 1.6301, 1.6289, 1.6271, 1.6261, 1.6207, 1.6178, 1.615, 1.6142, 1.6142, 1.613, 1.6101, 1.6095, 1.6089, 1.6088, 1.6078, 1.6055, 1.6036, 1.6009, 1.5976, 1.5966, 1.5953, 1.5953, 1.5937, 1.5915, 1.5877, 1.5876, 1.5876, 1.5876, 1.5876, 1.5777, 1.5751, 1.5737, 1.563, 1.5183, 1.4958, 1.4555, 1.4896, 1.5167, 1.4173, 1.3224, 1.3824, 1.487, 1.172, 1.4483, 1.3965, 1.3162, 1.0498, 1.4453, 1.4899, 1.4033, 0.8941, 1.2739, 1.1556, 0.7727, 1.1691, 0.7687, 0.8391, 0.5967, 0.7078, 0.5397, 0.9218, 0.3583, -0.2419, 0.5107, -0.0182, 0.8265, 0.2953, 0.2302, 0.5016, 0.5508, 2.1146, 2.1027, 2.0947, 2.0911, 2.0848, 2.074, 2.0615, 2.053, 2.0522, 2.0461, 2.0433, 2.0301, 2.0283, 2.0228, 2.0186, 2.0152, 2.0058, 1.9922, 1.9834, 1.9782, 1.9674, 1.9656, 1.9571, 1.9564, 1.956, 1.9489, 1.9439, 1.9408, 1.94, 1.9285, 1.9027, 1.9219, 1.9018, 1.8109, 1.8376, 1.837, 1.9047, 1.838, 1.8293, 1.6163, 1.7024, 1.5966, 1.697, 1.7959, 1.7989, 1.5449, 1.5324, 1.674, 1.4031, 1.1662, 1.5262, 1.518, 1.7219, 0.7155, 0.8994, 1.266, 1.3416, 0.4315, 1.3412, 0.2504, 0.6495, 0.3338, 0.5481, 0.394, 0.2484, 0.7886, 0.7394, 0.831, 0.0134, 1.7433, 1.7291, 1.7255, 1.7208, 1.7205, 1.7179, 1.7107, 1.7045, 1.7017, 1.701, 1.6972, 1.6954, 1.6929, 1.6927, 1.6908, 1.6877, 1.6831, 1.6819, 1.6805, 1.6798, 1.6762, 1.6761, 1.6758, 1.6754, 1.6754, 1.6748, 1.674, 1.6739, 1.6704, 1.6701, 1.67, 1.6622, 1.6393, 1.6375, 1.6283, 1.6612, 1.6553, 1.6335, 1.6312, 1.6354, 1.6167, 1.5539, 1.5747, 1.3147, 1.5676, 1.1442, 1.4361, 1.3115, 1.2741, 1.328, 1.041, 1.3282, 1.368, 1.2095, 0.9509, 1.3817, 1.456, 1.2029, 1.2935, 0.9497, 0.7785, 1.176, 1.1968, 1.0601, 0.7346, 0.744, 0.8795, 1.0319, 0.7614, 1.2403, 1.1346, 0.9635, 1.1001, 0.5257, 0.519, 0.3367, 0.7872, 1.206, 1.202, 1.2002, 1.1988, 1.1957, 1.1935, 1.1935, 1.1934, 1.1908, 1.1901, 1.1899, 1.1899, 1.1899, 1.1878, 1.1873, 1.1863, 1.1862, 1.1861, 1.1851, 1.1849, 1.1849, 1.1812, 1.1788, 1.1783, 1.1779, 1.1778, 1.1772, 1.1769, 1.1758, 1.1743, 1.1611, 1.1571, 1.1678, 1.1619, 1.1674, 1.1219, 1.1516, 1.1091, 1.1148, 0.9702, 1.1406, 1.1002, 1.0895, 1.0664, 1.0296, 1.0666, 1.0883, 0.9916, 0.9933, 0.9054, 0.9103, 1.0659, 0.924, 0.7383, 0.726, 0.9385, 0.846, 0.9216, 0.7656, 0.8784, 0.5568, 0.5703, 0.5242, 0.8644, 0.3741, 0.5645, 0.6899, 0.8438, 0.2018]}, \"token.table\": {\"Topic\": [1, 2, 3, 4, 5, 6, 5, 1, 2, 3, 5, 6, 2, 3, 5, 6, 2, 3, 4, 5, 6, 4, 5, 5, 6, 2, 3, 4, 5, 6, 1, 2, 3, 4, 5, 5, 2, 3, 4, 5, 2, 1, 2, 4, 2, 3, 3, 3, 2, 3, 4, 5, 6, 1, 3, 4, 5, 6, 5, 1, 2, 3, 4, 5, 6, 1, 2, 3, 4, 5, 1, 2, 4, 6, 1, 4, 6, 5, 3, 5, 6, 2, 4, 5, 1, 2, 3, 4, 5, 1, 2, 3, 4, 5, 6, 6, 1, 6, 2, 4, 6, 6, 6, 6, 3, 4, 4, 5, 6, 1, 3, 1, 2, 3, 4, 5, 6, 2, 3, 5, 6, 5, 6, 6, 1, 2, 3, 4, 1, 2, 3, 6, 1, 5, 1, 2, 3, 4, 5, 6, 1, 5, 1, 2, 3, 5, 6, 4, 3, 4, 6, 1, 4, 2, 4, 6, 2, 4, 3, 4, 6, 1, 2, 3, 5, 6, 2, 3, 4, 5, 3, 4, 5, 6, 4, 1, 2, 3, 6, 6, 1, 2, 3, 4, 6, 6, 3, 4, 1, 2, 3, 4, 6, 2, 4, 6, 1, 2, 3, 4, 5, 6, 1, 2, 3, 5, 6, 1, 2, 3, 4, 6, 2, 5, 3, 4, 5, 6, 3, 2, 3, 4, 5, 6, 2, 6, 1, 3, 3, 3, 2, 4, 1, 6, 1, 2, 6, 2, 3, 4, 6, 1, 2, 3, 4, 5, 6, 1, 2, 5, 5, 6, 1, 2, 3, 5, 2, 3, 5, 6, 1, 2, 3, 4, 5, 6, 1, 2, 3, 5, 6, 6, 2, 4, 3, 4, 3, 5, 3, 2, 4, 5, 1, 2, 3, 4, 5, 6, 1, 2, 3, 4, 6, 1, 2, 3, 4, 5, 6, 3, 4, 3, 2, 3, 4, 5, 1, 2, 3, 4, 5, 1, 2, 3, 4, 5, 3, 4, 6, 4, 6, 1, 2, 3, 4, 5, 6, 1, 2, 3, 6, 1, 2, 3, 5, 6, 1, 2, 3, 6, 1, 2, 3, 4, 5, 3, 5, 2, 2, 6, 1, 2, 4, 1, 6, 1, 6, 1, 2, 3, 4, 5, 2, 5, 3, 4, 6, 4, 6, 1, 2, 3, 4, 6, 1, 2, 3, 6, 1, 2, 3, 4, 5, 6, 2, 3, 4, 5, 6, 1, 2, 3, 2, 5, 2, 2, 5, 1, 6, 2, 1, 2, 3, 6, 1, 6, 4, 6, 3, 5, 6, 6, 1, 2, 3, 4, 5, 6, 3, 2, 6, 3, 6, 2, 3, 4, 5, 6, 1, 2, 3, 4, 5, 6, 3, 3, 6, 1, 2, 3, 4, 5, 6, 1, 2, 3, 4, 5, 6, 5, 6, 1, 3, 6, 6, 6, 3, 1, 2, 3, 4, 6, 4, 5, 6, 1, 2, 3, 4, 6, 1, 2, 1, 2, 3, 4, 5, 6, 5, 6, 1, 2, 3, 4, 5, 6, 1, 2, 3, 4, 5, 6, 1, 2, 4, 6, 2, 4, 5, 6, 2, 4, 5, 6, 1, 2, 4, 5, 1, 2, 3, 4, 5, 1, 4, 4, 6, 4, 5, 1, 2, 3, 4, 5, 6, 2, 3, 5, 2, 4, 5, 2, 2, 3, 4, 5, 6, 1, 2, 3, 4, 5, 6, 2, 3, 2, 3, 1, 2, 3, 4, 5, 3, 3, 4, 5, 6, 1, 2, 3, 4, 5, 6, 1, 2, 3, 4, 5, 6, 2, 4, 5, 3, 5, 1, 2, 3, 4, 5, 6, 2, 3, 6, 4, 5, 6, 1, 2, 3, 4, 5, 6, 1, 2, 4, 5, 6, 1, 3, 1, 3, 4, 5, 6, 1, 3, 4, 6, 1, 2, 3, 4, 5, 6, 2, 3, 6, 1, 6, 2, 3, 2, 3, 5, 2, 4, 5, 6, 1, 2, 3, 4, 5, 6, 2, 3, 5, 2, 4, 5, 6, 2, 5, 1, 2, 3, 4, 4, 3, 4, 6, 4, 1, 2, 4, 5, 2, 3, 4, 5, 6, 1, 2, 3, 4, 6, 2, 3, 4, 1, 2, 3, 4, 5, 6, 2, 3, 5, 2, 3, 4, 5, 6, 2, 4, 2, 3, 1, 2, 4, 3, 1, 6, 2, 4, 1, 2, 3, 4, 5, 6, 1, 3, 6, 5, 1, 4, 6, 2, 4, 3, 1, 2, 3, 4, 5, 6, 2, 3, 4, 6, 1, 2, 3, 5, 6, 3, 2, 3, 1, 2, 3, 4, 5, 6, 3, 1, 4, 6, 1, 2, 6, 1, 6, 1, 2, 1, 3, 6, 1, 2, 3, 4, 5, 6, 2, 5, 2, 5, 5, 6, 1, 2, 3, 4, 5, 6, 2, 4, 5, 6, 1, 2, 3, 4, 6, 1, 2, 3, 4, 6, 1, 2, 3, 4, 5, 6, 1, 2, 3, 4, 5, 6, 3, 6, 2, 2, 3, 4, 5, 1, 2, 4, 5, 6, 3, 4, 1, 2, 3, 4, 5, 6, 3, 4, 1, 2, 3, 4, 5, 6, 2, 5, 2, 3, 4, 5, 6, 4, 1, 2, 3, 4, 5, 6, 3, 2, 5, 6, 4, 5, 1, 2, 3, 4, 5, 6, 5, 6, 3, 4, 5, 1, 2, 5, 5, 3, 4, 6, 3, 2, 4, 5, 6, 4, 5, 2, 5, 6, 5, 6, 1, 2, 3, 4, 5, 6, 1, 4, 5, 6, 1, 6, 1, 3, 6, 2, 3, 5, 6, 2, 3, 5, 6, 2, 5, 6, 4, 6, 1, 2, 3, 4, 5, 6, 1, 2, 3, 4, 5, 6, 3, 4, 5, 6, 1, 2, 4, 5, 6, 1, 2, 3, 4, 5, 6, 2, 3, 4, 5, 1, 2, 3, 4, 5, 6, 2, 3, 4, 5, 6, 2, 3, 5, 1, 3, 2, 1, 3, 1, 2, 5, 1, 2, 3, 4, 5, 6, 6, 3, 4, 3, 4, 5, 2, 3, 4, 5, 6, 1, 2, 3, 4, 5, 6, 2, 3, 4, 5, 6, 1, 2, 3, 5, 1, 2, 3, 4, 5, 6, 2, 4, 2, 5, 1, 4, 5, 6, 2, 4, 5, 6, 1, 3, 5, 1, 6, 4, 6, 1, 2, 3, 4, 5, 6, 2, 5, 2, 4, 5, 5, 6, 4, 5, 4, 6, 2, 5, 6, 2, 4, 5, 2, 3, 4, 5, 5, 1, 4, 3, 4, 5, 6, 1, 2, 4, 5, 6, 3, 6, 1, 2, 3, 4, 5, 6, 2, 1, 4, 5, 6, 3, 5, 4, 5, 3, 2, 3, 4, 5, 4, 2, 3, 4, 5, 1, 2, 3, 4, 6, 1, 2, 3, 4, 5, 6, 1, 2, 3, 6, 3, 5, 3, 5, 1, 2, 3, 4, 6, 4, 3, 3, 5, 2, 3, 4, 5, 6, 6, 1, 2, 3, 4, 5, 6, 2, 3, 4, 5, 6, 2, 6, 1, 2, 4, 5, 6, 1, 2, 3, 4, 5, 6, 1, 2, 3, 4, 5, 6, 1, 3, 4, 6, 1, 2, 3, 5, 6, 1, 5, 1, 6, 6, 3, 4, 5, 6, 1, 2, 3, 4, 5, 6, 2, 3, 4, 5, 6, 6, 6, 1, 2, 3, 4, 5, 6], \"Freq\": [0.046359286733454644, 0.2888540173392174, 0.24249473060576276, 0.021396593876979068, 0.37087429386763715, 0.0320948908154686, 0.9695260569654149, 0.015916379428667773, 0.7480698331473854, 0.09549827657200664, 0.04774913828600332, 0.07958189714333887, 0.7077335395653948, 0.05444104150503037, 0.12443666629721226, 0.11665937465363649, 0.5246464843373133, 0.01748821614457711, 0.03497643228915422, 0.2710673502409452, 0.14864983722890543, 0.9569454103799517, 0.9336016626609346, 0.8895694043830359, 0.09531100761246813, 0.15324110047621897, 0.06895849521429855, 0.11493082535716423, 0.6359505669763088, 0.030648220095243796, 0.5078583101999182, 0.060942997223990186, 0.2844006537119542, 0.10157166203998365, 0.040628664815993455, 0.9754393300972233, 0.18790898098534925, 0.48104699132249407, 0.1803926217459353, 0.1503271847882794, 0.9046748323416027, 0.396321763117388, 0.3143241569551698, 0.28699162156776375, 0.9110002901576937, 0.07145100314962304, 0.9791432180404528, 0.9553162180055768, 0.12139790586508797, 0.4704168852272159, 0.16312843600621196, 0.06069895293254399, 0.18209685879763196, 0.9400531077671987, 0.392921342528835, 0.5466731722140313, 0.051250609895065434, 0.01708353663168848, 0.9336117284148793, 0.32649621635859616, 0.15977474417548324, 0.13893456015259412, 0.15977474417548324, 0.14588128816022383, 0.06252055206866736, 0.3143700908945714, 0.21296038415438706, 0.20281941348036864, 0.06084582404411059, 0.20281941348036864, 0.01720038933234258, 0.051601167997027735, 0.6364144052966754, 0.2752062293174813, 0.11780110762591271, 0.8246077533813889, 0.058900553812956356, 0.9628736158963622, 0.051136480999631355, 0.8948884174935486, 0.051136480999631355, 0.06570838532761078, 0.03285419266380539, 0.8870632019227455, 0.25243048685070885, 0.34498833202930207, 0.025243048685070886, 0.12621524342535442, 0.25243048685070885, 0.024203452032286875, 0.024203452032286875, 0.14522071219372124, 0.024203452032286875, 0.024203452032286875, 0.7583748303449888, 0.9668091741442353, 0.015732703737395427, 0.9754276317185165, 0.9680288661814266, 0.8283314355783568, 0.15060571555970123, 0.9721364696011752, 0.9668122153338855, 0.9760483231380215, 0.9580907177316891, 0.030415578340688542, 0.8113014491596264, 0.04056507245798132, 0.12169521737394395, 0.9277138767948764, 0.048827046147098756, 0.045925747086250954, 0.022962873543125477, 0.1894437067307852, 0.22388801704547343, 0.4133317237762586, 0.10907364932984602, 0.9793142153592962, 0.9677105238246343, 0.9097313294686739, 0.06997933303605183, 0.9888162371477067, 0.98561431211975, 0.9844495076144616, 0.09505979276072896, 0.03802391710429159, 0.8175142177422691, 0.019011958552145793, 0.12216889748994855, 0.5803022630772556, 0.0814459316599657, 0.21379557060740997, 0.7838435364114175, 0.1650196918760879, 0.01917058452335344, 0.517605782130543, 0.06230439970089869, 0.14377938392515083, 0.11502350714012065, 0.13898673779431245, 0.042066888170235905, 0.9254715397451899, 0.0061367059024119925, 0.07977717673135591, 0.0920505885361799, 0.018410117707235978, 0.797771767313559, 0.934524112344599, 0.9852818151559823, 0.8629022550330387, 0.12783737111600574, 0.0964669946920473, 0.8682029522284256, 0.036488141542381274, 0.9122035385595318, 0.036488141542381274, 0.1460680852448479, 0.8033744688466635, 0.9319559717442037, 0.029123624117006367, 0.029123624117006367, 0.05567456677202669, 0.05567456677202669, 0.4453965341762135, 0.17630279477808453, 0.2644541921671268, 0.06850435195174144, 0.045669567967827625, 0.06850435195174144, 0.8220522234208972, 0.020015638625280534, 0.07005473518848186, 0.5604378815078549, 0.34026585662976905, 0.9624415543139745, 0.7782165260251942, 0.03765563835605778, 0.16317443287625039, 0.02510375890403852, 0.9620662028875023, 0.050976672498174315, 0.7986345358047309, 0.10195334499634863, 0.03398444833211621, 0.016992224166058105, 0.9798241599968731, 0.08118483300530856, 0.8930331630583941, 0.032606664929960935, 0.016303332464980468, 0.0244549986974707, 0.7173466284591405, 0.20379165581225583, 0.048091441758996996, 0.8656459516619459, 0.048091441758996996, 0.048396715991015506, 0.04301930310312489, 0.20434168973984324, 0.04301930310312489, 0.021509651551562446, 0.6399121336589828, 0.013901820977945855, 0.04170546293383757, 0.23633095662507955, 0.6672874069414011, 0.02780364195589171, 0.09072143146230881, 0.05443285887738528, 0.607833590797469, 0.21773143550954113, 0.02721642943869264, 0.058376406068688456, 0.9340224970990153, 0.8735491788010903, 0.06719609067700694, 0.026878436270802778, 0.013439218135401389, 0.9776170959150899, 0.49210491825107544, 0.03618418516552025, 0.11578939252966482, 0.20986827396001748, 0.15197357769518507, 0.8975350687035193, 0.07804652771334951, 0.7672447785534511, 0.21312354959818086, 0.9725960343900253, 0.9464606856155029, 0.055693120514995, 0.89108992823992, 0.7477656841517589, 0.10682366916453699, 0.8238284514563311, 0.08238284514563311, 0.10984379352751081, 0.6505301162496964, 0.19914187232133562, 0.13276124821422375, 0.013276124821422375, 0.2429170220790335, 0.2862950617360038, 0.026026823794182162, 0.04337803965697027, 0.3730511410499443, 0.017351215862788108, 0.12419870364455571, 0.24839740728911142, 0.6209935182227785, 0.018584490167913213, 0.9663934887314871, 0.05404604736828633, 0.13511511842071583, 0.7836676868401519, 0.027023023684143166, 0.05917627492264868, 0.26037560965965423, 0.6391037691646058, 0.03550576495358921, 0.1175664121519438, 0.10373506954583277, 0.44260296339555316, 0.041494027818333105, 0.20055446778861002, 0.09681939824277724, 0.028035127583478196, 0.23362606319565163, 0.12148555286173884, 0.5513575091417379, 0.06541529769478245, 0.9857678059683234, 0.12455202964843141, 0.8095881927148042, 0.9211112783120213, 0.03289683136828648, 0.9405110826152591, 0.026125307850423864, 0.972216468990962, 0.11757792711310384, 0.8230454897917269, 0.9696345032639674, 0.5010015196576839, 0.041750126638140324, 0.19831310153116655, 0.020875063319070162, 0.08350025327628065, 0.1565629748930262, 0.07517374542980623, 0.07517374542980623, 0.16914092721706403, 0.638976836153353, 0.037586872714903116, 0.009897846173704856, 0.11877415408445827, 0.15506625672137608, 0.09897846173704855, 0.11547487202655665, 0.501490872801046, 0.9700296496926919, 0.01616716082821153, 0.9776149837989427, 0.17316683668400143, 0.044895105806963334, 0.16675325014014952, 0.609290721665931, 0.2556594339640106, 0.16146911618779616, 0.013455759682316347, 0.5382303872926538, 0.026911519364632694, 0.04543668191948527, 0.4493182989815766, 0.0050485202132761415, 0.060582242559313694, 0.4392212585550243, 0.031943756708090604, 0.023957817531067953, 0.9503267620656954, 0.8629007662853788, 0.09587786292059765, 0.129476393050356, 0.016888225180481217, 0.028147041967468697, 0.011258816786987478, 0.022517633573974957, 0.799375991876111, 0.8576217929646096, 0.030629349748736056, 0.06125869949747211, 0.030629349748736056, 0.03132393426663836, 0.041765245688851156, 0.7726570452437463, 0.05220655711106394, 0.10441311422212789, 0.7558758384993824, 0.04446328461761073, 0.08892656923522146, 0.08892656923522146, 0.08213562103915285, 0.1642712420783057, 0.07040196089070244, 0.4810800660864667, 0.21120588267210733, 0.9444172610339046, 0.0248530858166817, 0.9810515898704513, 0.8991467043198246, 0.06201011753929825, 0.09089384720861944, 0.18178769441723888, 0.6968528285994157, 0.7114710661716881, 0.11857851102861468, 0.7405104173188561, 0.23140950541214256, 0.15406366024141568, 0.7318023861467244, 0.01925795753017696, 0.02888693629526544, 0.06740285135561937, 0.9046676784781498, 0.9549068931254392, 0.09106239888336341, 0.020236088640747423, 0.8802698558725129, 0.942670665249444, 0.03847635368365077, 0.1930593841319609, 0.007722375365278435, 0.07722375365278435, 0.2548383870541884, 0.4556201465514277, 0.025596639529179125, 0.7678991858753738, 0.1023865581167165, 0.1023865581167165, 0.026432454824952982, 0.17621636549968656, 0.11454063757479625, 0.026432454824952982, 0.6431897340738559, 0.008810818274984327, 0.010474561161821792, 0.020949122323643585, 0.9322359434021396, 0.010474561161821792, 0.03142368348546538, 0.7137269458735944, 0.2270949373234164, 0.0324421339033452, 0.05530567510659999, 0.8848908017055999, 0.9044173206360613, 0.11782967690165953, 0.8791906661123826, 0.8941928491436, 0.9844450127477589, 0.8793446221540582, 0.662614666826306, 0.02650458667305224, 0.18553210671136566, 0.10601834669220896, 0.8258346496619947, 0.14573552641094026, 0.791871647376597, 0.1319786078960995, 0.022014817293854263, 0.07705186052848992, 0.9026075090480248, 0.9902217273715511, 0.024978238110587813, 0.29973885732705374, 0.27476061921646594, 0.08492600957599857, 0.2897475620828186, 0.024978238110587813, 0.9464585243784966, 0.01929419111714432, 0.964709555857216, 0.021743348746732942, 0.9567073448562494, 0.052327294591086086, 0.19435852276689117, 0.0074753277987265835, 0.037376638993632916, 0.7026808130802988, 0.11089959980097452, 0.061973305771132824, 0.09459083512436063, 0.15004063502484788, 0.061973305771132824, 0.5186187167163221, 0.9464600643343419, 0.054110147654891326, 0.9401638155037367, 0.010871593181989126, 0.14133071136585865, 0.3515148462176484, 0.03986250833396013, 0.4421114560675578, 0.018119321969981877, 0.02471304916761631, 0.08896697700341871, 0.3163270293454888, 0.13345046550512807, 0.11368002617103502, 0.321269639179012, 0.9121645194046815, 0.045608225970234076, 0.7597201564314254, 0.20259204171504677, 0.9601894456483933, 0.9668092804892809, 0.9739036296174146, 0.9464596444764795, 0.11112961917488386, 0.014817282556651181, 0.1407641842881862, 0.24448516218474448, 0.48897032436948895, 0.038697289494762845, 0.7352485004004939, 0.21283509222119562, 0.579424005925244, 0.144856001481311, 0.09657066765420733, 0.04828533382710366, 0.12071333456775916, 0.7935587844409988, 0.18671971398611736, 0.06432127185447933, 0.22512445149067767, 0.08729315465965053, 0.17458630931930105, 0.11485941402585595, 0.33079511239446513, 0.03409795269936974, 0.9547426755823527, 0.12792907412839422, 0.06396453706419711, 0.07148977671880853, 0.04515143792766855, 0.07525239654611425, 0.6133070318508311, 0.1985799394423993, 0.02158477602634775, 0.3194546851899467, 0.0518034624632346, 0.06475432807904324, 0.3410394612162944, 0.7693257710580264, 0.030169638080706915, 0.1055937332824742, 0.09050891424212075, 0.1834876498046591, 0.07339505992186364, 0.721718089231659, 0.024465019973954547, 0.053867629483147605, 0.026933814741573803, 0.8618820717303617, 0.026933814741573803, 0.051575834761908156, 0.7478496040476683, 0.09025771083333928, 0.10315166952381631, 0.04174114860551878, 0.751340674899338, 0.07304701005965786, 0.010435287151379695, 0.11478815866517664, 0.826130001338956, 0.0826130001338956, 0.8212544886548009, 0.1173220698078287, 0.05839918321420126, 0.9051873398201196, 0.14185513363112748, 0.25384602860307026, 0.029864238659184736, 0.08959271597755421, 0.3733029832398092, 0.11199089497194276, 0.05526030565901559, 0.027630152829507794, 0.8841648905442494, 0.049183820311682724, 0.7377573046752408, 0.1967352812467309, 0.9236768830857206, 0.6384588010661837, 0.025202321094717775, 0.016801547396478517, 0.18481702136126368, 0.13441237917182813, 0.05904328173945437, 0.0649476099133998, 0.24798178330570833, 0.023617312695781746, 0.011808656347890873, 0.5904328173945437, 0.03777164363896163, 0.9442910909740407, 0.9554235994632007, 0.970068920562527, 0.007583481741052597, 0.015166963482105195, 0.8265995097747331, 0.05308437218736818, 0.09858526263368377, 0.9904390011021416, 0.0549898902611124, 0.01099797805222248, 0.032993934156667445, 0.8908362222300209, 0.02082301308877039, 0.010411506544385196, 0.13534958507700756, 0.06246903926631118, 0.02602876636096299, 0.7496284711957342, 0.029001050522250806, 0.029001050522250806, 0.33351208100588425, 0.44951628309488745, 0.1305047273501286, 0.029001050522250806, 0.8214097159469035, 0.05867212256763596, 0.05867212256763596, 0.9596839292515641, 0.01958538631125641, 0.020263063745315335, 0.09118378685391901, 0.23302523307112635, 0.09118378685391901, 0.516708125505541, 0.05065765936328834, 0.05466070216770401, 0.7834700644037574, 0.1457618724472107, 0.03301380715462196, 0.03301380715462196, 0.940893503906726, 0.03681693718249773, 0.006136156197082956, 0.21476546689790346, 0.04908924957666365, 0.012272312394165912, 0.693385650270374, 0.14431268170081385, 0.14431268170081385, 0.4209119882940404, 0.25254719297642425, 0.03607817042520346, 0.8824292450276958, 0.12606132071824225, 0.04609439504089568, 0.12571198647517, 0.04190399549172334, 0.05028479459006801, 0.7375103206543309, 0.01188859261496862, 0.00594429630748431, 0.00594429630748431, 0.9748645944274268, 0.07795017739485442, 0.30400569183993226, 0.062360141915883543, 0.03897508869742721, 0.49108611758758286, 0.02338505321845633, 0.011613964073212258, 0.023227928146424517, 0.9639590180766174, 0.8283246162425671, 0.13805410270709453, 0.9198719167430991, 0.07665599306192493, 0.8434770191193073, 0.06024835850852195, 0.09037253776278292, 0.8632755878078231, 0.03197316991880826, 0.06394633983761652, 0.03197316991880826, 0.003534210379544028, 0.03180789341589625, 0.25799735770671406, 0.08128683872951264, 0.003534210379544028, 0.6220210267997489, 0.8532282508140369, 0.05018989710670805, 0.05018989710670805, 0.5695418951568897, 0.15820608198802494, 0.2320355869157699, 0.03164121639760498, 0.8397976325176014, 0.1439653084315888, 0.474066755625306, 0.2765389407814285, 0.01975278148438775, 0.21728059632826524, 0.9408314307853246, 0.8863739464001071, 0.02215934866000268, 0.08863739464001072, 0.970945272732944, 0.019923674432116314, 0.6973286051240709, 0.04980918608029078, 0.22912225596933758, 0.05067528960480417, 0.6182385331786109, 0.04054023168384333, 0.060810347525765, 0.23310633218209917, 0.10715073896450433, 0.07143382597633623, 0.3714558950769484, 0.378599277674582, 0.07143382597633623, 0.04048821262588834, 0.16195285050355335, 0.7692760398918784, 0.06739201062760375, 0.12441601962019154, 0.27475204332792297, 0.20217603188281125, 0.010368001635015962, 0.31622404986798686, 0.46601655370847583, 0.44966509568361707, 0.081757290124294, 0.34909989782638146, 0.16291328565231136, 0.007757775507252922, 0.48098208144968113, 0.007757775507252922, 0.9058582991803369, 0.0754881915983614, 0.9222090082367199, 0.08782942935587809, 0.052887575003050996, 0.8462012000488159, 0.052887575003050996, 0.9918309395483762, 0.030696753637556282, 0.9618316139767635, 0.9686682793152056, 0.02201518816625467, 0.12119504583826611, 0.13666675381761922, 0.5492456332670358, 0.0077358539896765595, 0.010314471986235413, 0.17534602376600203, 0.5584571717554493, 0.01003216476207394, 0.4313830847691794, 0.9453169642116144, 0.06598223793917803, 0.7917868552701363, 0.13196447587835605, 0.04814375166169131, 0.9147312815721349, 0.9464593442574233, 0.08896560199963285, 0.20134320452548488, 0.23880240536743555, 0.11706000263109587, 0.23880240536743555, 0.11237760252585202, 0.13722413549307835, 0.8482946557753935, 0.012474921408461669, 0.9869929673920448, 0.026290963697579075, 0.006572740924394769, 0.05258192739515815, 0.07887289109273722, 0.8281653564737409, 0.9622037401774933, 0.30503955206680833, 0.6863389921503188, 0.02356548088212588, 0.01178274044106294, 0.1571032058808392, 0.054986122058293715, 0.0196379007351049, 0.7344574874929232, 0.972237317117203, 0.14475748215177553, 0.7720399048094695, 0.04825249405059184, 0.8286686942602947, 0.09749043461885819, 0.048745217309429094, 0.894436570837473, 0.9857640780842309, 0.7353238815395238, 0.2451079605131746, 0.10982389435309349, 0.7138553132951077, 0.16473584152964024, 0.019037081362144204, 0.16181519157822571, 0.08566686612964891, 0.05711124408643261, 0.5711124408643261, 0.10470394749179311, 0.047771497254661816, 0.9315441964659055, 0.024437732971450653, 0.9530715858865754, 0.9184305163259475, 0.06560217973756768, 0.026353465921748212, 0.11670820622488494, 0.33130071444483467, 0.12047298707084897, 0.04517737015156836, 0.3614189612125469, 0.04473858802416779, 0.626340232338349, 0.13421576407250338, 0.17895435209667115, 0.605830720594544, 0.0673145245105049, 0.20194357353151468, 0.0673145245105049, 0.0673145245105049, 0.7571449872599273, 0.01941397403230583, 0.09706987016152914, 0.05824192209691748, 0.05824192209691748, 0.2651010134733626, 0.05302020269467252, 0.09543636485041054, 0.05302020269467252, 0.14845656754508307, 0.3870474796711094, 0.0252021103610365, 0.252021103610365, 0.08400703453678833, 0.14281195871254015, 0.44523728304497817, 0.042003517268394165, 0.020435867335061836, 0.9604857647479064, 0.9236715149993143, 0.011887331156638502, 0.8558878432779722, 0.035661993469915505, 0.08321131809646952, 0.07815333301072096, 0.013025555501786827, 0.5470733310750467, 0.2605111100357365, 0.09117888851250779, 0.9415348571708544, 0.0392306190487856, 0.010106276000258044, 0.04379386266778486, 0.6232203533492461, 0.1819129680046448, 0.09769400133582777, 0.04379386266778486, 0.08113470351319563, 0.8113470351319563, 0.05068979885957947, 0.16051769638866834, 0.20275919543831789, 0.2703455939177572, 0.2703455939177572, 0.042241499049649564, 0.8976313939362949, 0.05280184670213499, 0.6636090639958238, 0.023700323714136565, 0.11850161857068282, 0.17775242785602424, 0.023700323714136565, 0.9527311775124356, 0.026131896744818153, 0.3484252899309087, 0.14372543209649985, 0.11323821922754533, 0.35713592217918144, 0.008710632248272718, 0.9589898237746812, 0.6536789699304534, 0.3268394849652267, 0.010543209192426668, 0.04204301665761583, 0.9249463664675484, 0.04977613679742297, 0.1443507967125266, 0.3932314806996414, 0.11448511463407282, 0.2887015934250532, 0.019910454718969187, 0.8992443724355897, 0.0499580206908661, 0.9753843121824255, 0.8821831694933723, 0.05881221129955815, 0.6185111397660312, 0.14057071358318893, 0.25302728444974004, 0.9454869757934139, 0.1878193605010109, 0.6439520931463231, 0.13415668607215062, 0.9682447086489995, 0.5074013853524678, 0.16588122213446066, 0.26345841162531985, 0.048788594745429605, 0.9068269738510751, 0.955047808727413, 0.7383900825851705, 0.23440955002703825, 0.011720477501351913, 0.899244373338918, 0.049958020741051004, 0.08409900854935244, 0.028033002849784147, 0.18221451852359696, 0.08409900854935244, 0.1027876771158752, 0.5232827198626374, 0.11444415698169402, 0.022888831396338804, 0.8239979302681969, 0.04577766279267761, 0.8636141004048302, 0.13817825606477283, 0.09688323512656266, 0.03875329405062506, 0.8622607926264076, 0.08888605460535166, 0.8444175187508408, 0.022221513651337916, 0.022221513651337916, 0.009990375402926764, 0.1511044279692673, 0.05619586164146305, 0.7817468752790193, 0.7547183333828003, 0.22298496213582736, 0.017152689395063644, 0.02623162032232725, 0.944338331603781, 0.04664613054119594, 0.04081536422354645, 0.06413842949414443, 0.2857075495648252, 0.04664613054119594, 0.5131074359531554, 0.022144762239054677, 0.05536190559763669, 0.09965143007574605, 0.5757638182154216, 0.18823047903196474, 0.05536190559763669, 0.3435670014577741, 0.04908100020825344, 0.5726116690962901, 0.02454050010412672, 0.12114594478796528, 0.19383351166074447, 0.04845837791518612, 0.5936151294610299, 0.04845837791518612, 0.014679822202134114, 0.31316954031219446, 0.15658477015609723, 0.09786548134756076, 0.36699555505335285, 0.05382601474115842, 0.3076086666857901, 0.09546475862662453, 0.06364317241774968, 0.530359770147914, 0.15527094622420368, 0.13138310834355696, 0.05374763523145512, 0.13735506781371865, 0.16721486516452705, 0.35234560873953913, 0.007875083729088619, 0.07875083729088618, 0.007875083729088619, 0.866259210199748, 0.031500334916354476, 0.8099066893353167, 0.08099066893353167, 0.10798755857804224, 0.954320008882839, 0.03470254577755778, 0.879331622756419, 0.9205445184289587, 0.061369634561930585, 0.8602886159831876, 0.0977600699980895, 0.0195520139996179, 0.10980393150378165, 0.3867008022524484, 0.08115942763322992, 0.05728900774110347, 0.07161125967637934, 0.2912191226839426, 0.9760475866973185, 0.9573518714339244, 0.02454748388292114, 0.8559687882859409, 0.04755382157144117, 0.09510764314288234, 0.20703028740900997, 0.08872726603243285, 0.4436363301621642, 0.13309089904864926, 0.11830302137657712, 0.022599510318247123, 0.21983160036840382, 0.18901408629806685, 0.010272504690112328, 0.5362247448238635, 0.02465401125626959, 0.05688088776416825, 0.27542324601597257, 0.02394984747964979, 0.6346709582107194, 0.00898119280486867, 0.016879806339251267, 0.016879806339251267, 0.1519182570532614, 0.8102307042840609, 0.11718749323841217, 0.6640624616843356, 0.03906249774613739, 0.03906249774613739, 0.03906249774613739, 0.09114582807432058, 0.8166643091391956, 0.14411723102456395, 0.7915841251631978, 0.13193068752719964, 0.02735965122012983, 0.7387105829435054, 0.05471930244025966, 0.16415790732077898, 0.11396476621529031, 0.740770980399387, 0.014245595776911289, 0.14245595776911288, 0.7855039821476751, 0.07140945292251592, 0.14281890584503185, 0.74698801279176, 0.21342514651193142, 0.8201227788560227, 0.11716039697943181, 0.007056447982265234, 0.5221771506876273, 0.07056447982265233, 0.04939513587585664, 0.32459660718420075, 0.028225791929060936, 0.8181570721047348, 0.1583529816976906, 0.11366928768540382, 0.005683464384270191, 0.8809369795618797, 0.9327213931398051, 0.03886339138082521, 0.050049423096964606, 0.9008896157453629, 0.8800877828447712, 0.08800877828447712, 0.03470263715912718, 0.03470263715912718, 0.9196198847168703, 0.3293951679381516, 0.5374342213727736, 0.13869270228974803, 0.16483282224917456, 0.10489361415856563, 0.05993920809060893, 0.6743160910193505, 0.9696381634755583, 0.8602487475315014, 0.0716873956276251, 0.22985611721256421, 0.044488280750818884, 0.03707356729234907, 0.6895683516376927, 0.014238036815043872, 0.014238036815043872, 0.03559509203760968, 0.03559509203760968, 0.8969963193477639, 0.1343549552247245, 0.8598717134382368, 0.8944383899119484, 0.01651794098348268, 0.15692043934308544, 0.0412948524587067, 0.03303588196696536, 0.7433073442567205, 0.9384241969714097, 0.03002037911930036, 0.03002037911930036, 0.8705909944597104, 0.06004075823860072, 0.10835144560726828, 0.8668115648581463, 0.05531034950835604, 0.9126207668878746, 0.9818599199486341, 0.05273228656713372, 0.10546457313426744, 0.738252011939872, 0.10546457313426744, 0.9582816761692399, 0.07928986097580122, 0.41627177012295646, 0.019822465243950305, 0.48234665426945744, 0.040695466824446594, 0.09766912037867183, 0.032556373459557274, 0.5941538156369203, 0.23603370758179024, 0.23372812250964856, 0.1663827312780549, 0.0633838976297352, 0.07526837843531055, 0.3565344241672605, 0.1029988336483197, 0.0826411586804868, 0.023611759622996227, 0.011805879811498114, 0.8854409858623585, 0.04560169809931345, 0.9120339619862691, 0.023327125600894196, 0.9564121496366621, 0.03192253848411129, 0.09576761545233388, 0.06384507696822259, 0.7022958466504484, 0.06384507696822259, 0.9259884946003973, 0.9553160919145883, 0.9511835860668509, 0.9104114152180324, 0.0529550064468354, 0.8119767655181428, 0.035303337631223605, 0.088258344078059, 0.9714995938956527, 0.9801802469252519, 0.5040868034823774, 0.07637678840642083, 0.1374782191315575, 0.030550715362568332, 0.015275357681284166, 0.22913036521926247, 0.135763033638183, 0.7195440782823699, 0.03394075840954575, 0.02036445504572745, 0.08824597186481895, 0.9156687948544678, 0.9877362319215172, 0.4114330886726068, 0.031169173384288394, 0.031169173384288394, 0.21195037901316108, 0.31169173384288396, 0.1056482961981728, 0.058288715143819475, 0.1493648325560374, 0.1056482961981728, 0.051002625750842044, 0.5245984362943753, 0.021076655530754218, 0.08430662212301687, 0.33195732460937893, 0.07903745824032832, 0.015807491648065664, 0.46895558555928135, 0.0072517787141165736, 0.05801422971293259, 0.021755336142349722, 0.9137241179786884, 0.02789646050076321, 0.05579292100152642, 0.7903997141882909, 0.03719528066768428, 0.08368938150228963, 0.8054606109473288, 0.9337970964630664, 0.7697811975533678, 0.17764181482000796, 0.9860218205268122, 0.056281452423841964, 0.056281452423841964, 0.022512580969536785, 0.8554780768423978, 0.1049553569390921, 0.13994047591878947, 0.08551917972814911, 0.24100859741569297, 0.15548941768754385, 0.27988095183757894, 0.14457760957585372, 0.41419531392001335, 0.15239261549887284, 0.03126002369207648, 0.25789519545963097, 0.9844522939464754, 0.9857652860216914, 0.022057381759525627, 0.03676230293254271, 0.07352460586508543, 0.1396967511436623, 0.014704921173017084, 0.7131886768913286], \"Term\": [\"000\", \"000\", \"000\", \"000\", \"000\", \"000\", \"1952\", \"1959\", \"1959\", \"1959\", \"1959\", \"1959\", \"1960\", \"1960\", \"1960\", \"1960\", \"1961\", \"1961\", \"1961\", \"1961\", \"1961\", \"academic\", \"accomplish\", \"acres\", \"acres\", \"act\", \"act\", \"act\", \"act\", \"act\", \"add\", \"add\", \"add\", \"add\", \"add\", \"adjustments\", \"administration\", \"administration\", \"administration\", \"administration\", \"advances\", \"af\", \"af\", \"af\", \"aircraft\", \"aircraft\", \"alexander\", \"allies\", \"american\", \"american\", \"american\", \"american\", \"american\", \"angle\", \"anti\", \"anti\", \"anti\", \"anti\", \"appropriated\", \"area\", \"area\", \"area\", \"area\", \"area\", \"area\", \"areas\", \"areas\", \"areas\", \"areas\", \"areas\", \"art\", \"art\", \"art\", \"art\", \"artist\", \"artist\", \"artist\", \"assigned\", \"attorney\", \"attorney\", \"attorney\", \"authorized\", \"authorized\", \"authorized\", \"available\", \"available\", \"available\", \"available\", \"available\", \"away\", \"away\", \"away\", \"away\", \"away\", \"away\", \"baby\", \"ball\", \"ball\", \"bankers\", \"bargaining\", \"bargaining\", \"baseball\", \"bed\", \"bedroom\", \"berlin\", \"berlin\", \"bible\", \"bible\", \"bible\", \"blocks\", \"blocks\", \"board\", \"board\", \"board\", \"board\", \"board\", \"board\", \"boats\", \"bombs\", \"bond\", \"bond\", \"bonds\", \"boy\", \"breakfast\", \"bridge\", \"bridge\", \"bridge\", \"bridge\", \"brown\", \"brown\", \"brown\", \"brown\", \"builder\", \"builder\", \"business\", \"business\", \"business\", \"business\", \"business\", \"business\", \"calendar\", \"calendar\", \"came\", \"came\", \"came\", \"came\", \"came\", \"campus\", \"castro\", \"catholic\", \"catholic\", \"cattle\", \"cattle\", \"chamber\", \"chamber\", \"chamber\", \"chemical\", \"chemical\", \"china\", \"china\", \"china\", \"city\", \"city\", \"city\", \"city\", \"city\", \"claim\", \"claim\", \"claim\", \"claim\", \"class\", \"class\", \"class\", \"class\", \"classical\", \"clay\", \"clay\", \"clay\", \"clay\", \"clothes\", \"co\", \"co\", \"co\", \"co\", \"co\", \"coach\", \"collective\", \"collective\", \"college\", \"college\", \"college\", \"college\", \"college\", \"colleges\", \"colleges\", \"colleges\", \"come\", \"come\", \"come\", \"come\", \"come\", \"come\", \"commission\", \"commission\", \"commission\", \"commission\", \"commission\", \"committee\", \"committee\", \"committee\", \"committee\", \"committee\", \"commodities\", \"commodities\", \"communist\", \"communist\", \"communist\", \"communist\", \"communists\", \"company\", \"company\", \"company\", \"company\", \"company\", \"concerns\", \"concerns\", \"concrete\", \"concrete\", \"congo\", \"conservative\", \"contemporary\", \"contemporary\", \"cooking\", \"cooking\", \"cooling\", \"cooling\", \"cooling\", \"corps\", \"corps\", \"corps\", \"corps\", \"cost\", \"cost\", \"cost\", \"cost\", \"cost\", \"cost\", \"costs\", \"costs\", \"costs\", \"couldn\", \"couldn\", \"council\", \"council\", \"council\", \"council\", \"countries\", \"countries\", \"countries\", \"countries\", \"country\", \"country\", \"country\", \"country\", \"country\", \"country\", \"court\", \"court\", \"court\", \"court\", \"court\", \"cousin\", \"creative\", \"creative\", \"crisis\", \"crisis\", \"cuba\", \"cuba\", \"cuban\", \"curriculum\", \"curriculum\", \"customer\", \"cut\", \"cut\", \"cut\", \"cut\", \"cut\", \"cut\", \"daily\", \"daily\", \"daily\", \"daily\", \"daily\", \"day\", \"day\", \"day\", \"day\", \"day\", \"day\", \"democratic\", \"democratic\", \"democrats\", \"department\", \"department\", \"department\", \"department\", \"design\", \"design\", \"design\", \"design\", \"design\", \"development\", \"development\", \"development\", \"development\", \"development\", \"didn\", \"didn\", \"didn\", \"dilemma\", \"dilemma\", \"don\", \"don\", \"don\", \"don\", \"don\", \"don\", \"drill\", \"drill\", \"drill\", \"drill\", \"east\", \"east\", \"east\", \"east\", \"east\", \"edges\", \"edges\", \"edges\", \"edges\", \"education\", \"education\", \"education\", \"education\", \"education\", \"eisenhower\", \"eisenhower\", \"electronic\", \"electronics\", \"electronics\", \"engineer\", \"engineer\", \"engineer\", \"entertain\", \"entertain\", \"entrance\", \"entrance\", \"equipment\", \"equipment\", \"equipment\", \"equipment\", \"equipment\", \"executives\", \"exemption\", \"eyes\", \"eyes\", \"eyes\", \"faculty\", \"faculty\", \"family\", \"family\", \"family\", \"family\", \"family\", \"farm\", \"farm\", \"farm\", \"farm\", \"federal\", \"federal\", \"federal\", \"federal\", \"federal\", \"federal\", \"feed\", \"feed\", \"feed\", \"feed\", \"feed\", \"fig\", \"fig\", \"fig\", \"filing\", \"filing\", \"films\", \"fiscal\", \"fiscal\", \"fitted\", \"football\", \"founding\", \"frame\", \"frame\", \"frame\", \"frame\", \"frames\", \"frames\", \"fulfill\", \"fulfill\", \"game\", \"game\", \"game\", \"games\", \"general\", \"general\", \"general\", \"general\", \"general\", \"general\", \"geneva\", \"george\", \"george\", \"girl\", \"girl\", \"going\", \"going\", \"going\", \"going\", \"going\", \"good\", \"good\", \"good\", \"good\", \"good\", \"good\", \"gop\", \"got\", \"got\", \"government\", \"government\", \"government\", \"government\", \"government\", \"government\", \"great\", \"great\", \"great\", \"great\", \"great\", \"great\", \"gross\", \"gross\", \"gun\", \"gun\", \"hadn\", \"hair\", \"ham\", \"hammarskjold\", \"head\", \"head\", \"head\", \"head\", \"head\", \"hearing\", \"hearing\", \"hearing\", \"heat\", \"heat\", \"heat\", \"heat\", \"heat\", \"heating\", \"heating\", \"high\", \"high\", \"high\", \"high\", \"high\", \"high\", \"hit\", \"hit\", \"home\", \"home\", \"home\", \"home\", \"home\", \"home\", \"house\", \"house\", \"house\", \"house\", \"house\", \"house\", \"inch\", \"inch\", \"inch\", \"inch\", \"income\", \"income\", \"income\", \"income\", \"india\", \"india\", \"india\", \"india\", \"industrial\", \"industrial\", \"industrial\", \"industrial\", \"industry\", \"industry\", \"industry\", \"industry\", \"industry\", \"insert\", \"insert\", \"inspired\", \"inspired\", \"insurance\", \"insurance\", \"interest\", \"interest\", \"interest\", \"interest\", \"interest\", \"interest\", \"interference\", \"interference\", \"interference\", \"interior\", \"interior\", \"interior\", \"inventories\", \"island\", \"island\", \"island\", \"island\", \"island\", \"john\", \"john\", \"john\", \"john\", \"john\", \"john\", \"join\", \"join\", \"journal\", \"katanga\", \"kennedy\", \"kennedy\", \"kennedy\", \"kennedy\", \"kennedy\", \"khrushchev\", \"knew\", \"knew\", \"knew\", \"knew\", \"know\", \"know\", \"know\", \"know\", \"know\", \"know\", \"labor\", \"labor\", \"labor\", \"labor\", \"labor\", \"labor\", \"laboratory\", \"laboratory\", \"laboratory\", \"laos\", \"laos\", \"law\", \"law\", \"law\", \"law\", \"law\", \"law\", \"leaders\", \"leaders\", \"leaders\", \"league\", \"league\", \"league\", \"left\", \"left\", \"left\", \"left\", \"left\", \"left\", \"level\", \"level\", \"level\", \"level\", \"level\", \"lever\", \"lever\", \"little\", \"little\", \"little\", \"little\", \"little\", \"ll\", \"ll\", \"ll\", \"ll\", \"local\", \"local\", \"local\", \"local\", \"local\", \"local\", \"looked\", \"looked\", \"looked\", \"lumber\", \"lumber\", \"machine\", \"machine\", \"machinery\", \"machinery\", \"machinery\", \"machines\", \"machines\", \"machines\", \"machines\", \"man\", \"man\", \"man\", \"man\", \"man\", \"man\", \"manufacturing\", \"manufacturing\", \"manufacturing\", \"market\", \"market\", \"market\", \"market\", \"marketing\", \"marketing\", \"materials\", \"materials\", \"materials\", \"materials\", \"mathematics\", \"mayor\", \"mayor\", \"mayor\", \"meat\", \"medical\", \"medical\", \"medical\", \"medical\", \"meeting\", \"meeting\", \"meeting\", \"meeting\", \"meeting\", \"members\", \"members\", \"members\", \"members\", \"members\", \"membership\", \"membership\", \"membership\", \"men\", \"men\", \"men\", \"men\", \"men\", \"men\", \"military\", \"military\", \"military\", \"million\", \"million\", \"million\", \"million\", \"million\", \"missile\", \"missile\", \"missiles\", \"missiles\", \"mitchell\", \"mitchell\", \"mitchell\", \"moscow\", \"mother\", \"mother\", \"motors\", \"motors\", \"mr\", \"mr\", \"mr\", \"mr\", \"mr\", \"mr\", \"mrs\", \"mrs\", \"mrs\", \"municipalities\", \"music\", \"music\", \"music\", \"musical\", \"musical\", \"nam\", \"national\", \"national\", \"national\", \"national\", \"national\", \"national\", \"nations\", \"nations\", \"nations\", \"nice\", \"night\", \"night\", \"night\", \"night\", \"night\", \"nixon\", \"nuclear\", \"nuclear\", \"old\", \"old\", \"old\", \"old\", \"old\", \"old\", \"opposition\", \"orchestra\", \"orchestra\", \"orchestra\", \"outdoor\", \"outdoor\", \"outdoor\", \"outdoors\", \"pale\", \"panels\", \"panels\", \"party\", \"party\", \"party\", \"pay\", \"pay\", \"pay\", \"pay\", \"pay\", \"pay\", \"payment\", \"payment\", \"payments\", \"payments\", \"payroll\", \"payroll\", \"people\", \"people\", \"people\", \"people\", \"people\", \"people\", \"performance\", \"performance\", \"performance\", \"performance\", \"piece\", \"piece\", \"piece\", \"piece\", \"piece\", \"pieces\", \"pieces\", \"pieces\", \"pieces\", \"pieces\", \"place\", \"place\", \"place\", \"place\", \"place\", \"place\", \"plan\", \"plan\", \"plan\", \"plan\", \"plan\", \"plan\", \"player\", \"player\", \"polaris\", \"political\", \"political\", \"political\", \"political\", \"pool\", \"pool\", \"pool\", \"pool\", \"pool\", \"premier\", \"premier\", \"president\", \"president\", \"president\", \"president\", \"president\", \"president\", \"prestige\", \"prestige\", \"problem\", \"problem\", \"problem\", \"problem\", \"problem\", \"problem\", \"procurement\", \"procurement\", \"production\", \"production\", \"production\", \"production\", \"production\", \"professors\", \"program\", \"program\", \"program\", \"program\", \"program\", \"program\", \"propaganda\", \"property\", \"property\", \"property\", \"provisions\", \"provisions\", \"public\", \"public\", \"public\", \"public\", \"public\", \"public\", \"puerto\", \"puerto\", \"rayburn\", \"recognition\", \"recognition\", \"recreation\", \"recreation\", \"recreation\", \"rehabilitation\", \"religious\", \"religious\", \"religious\", \"republican\", \"research\", \"research\", \"research\", \"research\", \"reunion\", \"revenues\", \"rhode\", \"rhode\", \"rhode\", \"rico\", \"rico\", \"right\", \"right\", \"right\", \"right\", \"right\", \"right\", \"roads\", \"roads\", \"roads\", \"roads\", \"roof\", \"roof\", \"room\", \"room\", \"room\", \"russia\", \"russia\", \"russia\", \"russia\", \"said\", \"said\", \"said\", \"said\", \"sales\", \"sales\", \"sales\", \"sat\", \"sat\", \"school\", \"school\", \"school\", \"school\", \"school\", \"school\", \"schools\", \"schools\", \"schools\", \"schools\", \"schools\", \"schools\", \"secretary\", \"secretary\", \"secretary\", \"secretary\", \"section\", \"section\", \"section\", \"section\", \"section\", \"service\", \"service\", \"service\", \"service\", \"service\", \"service\", \"services\", \"services\", \"services\", \"services\", \"set\", \"set\", \"set\", \"set\", \"set\", \"set\", \"shall\", \"shall\", \"shall\", \"shall\", \"shall\", \"shares\", \"shares\", \"shares\", \"shelter\", \"shelter\", \"sheraton\", \"shooting\", \"shooting\", \"site\", \"site\", \"site\", \"small\", \"small\", \"small\", \"small\", \"small\", \"small\", \"snow\", \"soviet\", \"soviet\", \"speaker\", \"speaker\", \"speaker\", \"staff\", \"staff\", \"staff\", \"staff\", \"staff\", \"state\", \"state\", \"state\", \"state\", \"state\", \"state\", \"states\", \"states\", \"states\", \"states\", \"states\", \"stations\", \"stations\", \"stations\", \"stations\", \"stock\", \"stock\", \"stock\", \"stock\", \"stock\", \"stock\", \"stockholders\", \"stockholders\", \"stocks\", \"stocks\", \"student\", \"student\", \"student\", \"student\", \"students\", \"students\", \"students\", \"students\", \"sugar\", \"sugar\", \"sugar\", \"swim\", \"swim\", \"symphony\", \"symphony\", \"system\", \"system\", \"system\", \"system\", \"system\", \"system\", \"systems\", \"systems\", \"tax\", \"tax\", \"tax\", \"taxes\", \"taxes\", \"taxpayers\", \"taxpayers\", \"teachers\", \"teachers\", \"team\", \"team\", \"team\", \"technical\", \"technical\", \"technical\", \"term\", \"term\", \"term\", \"term\", \"thereof\", \"thickness\", \"thickness\", \"think\", \"think\", \"think\", \"think\", \"thought\", \"thought\", \"thought\", \"thought\", \"thought\", \"told\", \"told\", \"tomato\", \"took\", \"took\", \"took\", \"took\", \"took\", \"tract\", \"transportation\", \"transportation\", \"transportation\", \"transportation\", \"treasury\", \"treasury\", \"trial\", \"trial\", \"troops\", \"trust\", \"trust\", \"trust\", \"trust\", \"trustees\", \"united\", \"united\", \"united\", \"united\", \"university\", \"university\", \"university\", \"university\", \"university\", \"use\", \"use\", \"use\", \"use\", \"use\", \"use\", \"ve\", \"ve\", \"ve\", \"ve\", \"vehicle\", \"vehicle\", \"vehicles\", \"vehicles\", \"version\", \"version\", \"version\", \"version\", \"version\", \"versions\", \"viet\", \"violence\", \"vocational\", \"vote\", \"vote\", \"vote\", \"vote\", \"waited\", \"walked\", \"wall\", \"wall\", \"wall\", \"wall\", \"wall\", \"wall\", \"war\", \"war\", \"war\", \"war\", \"war\", \"warwick\", \"wasn\", \"water\", \"water\", \"water\", \"water\", \"water\", \"way\", \"way\", \"way\", \"way\", \"way\", \"way\", \"week\", \"week\", \"week\", \"week\", \"week\", \"week\", \"went\", \"went\", \"went\", \"went\", \"west\", \"west\", \"west\", \"west\", \"west\", \"width\", \"wildlife\", \"windows\", \"windows\", \"woman\", \"won\", \"won\", \"won\", \"won\", \"work\", \"work\", \"work\", \"work\", \"work\", \"work\", \"world\", \"world\", \"world\", \"world\", \"world\", \"yankees\", \"yards\", \"young\", \"young\", \"young\", \"young\", \"young\", \"young\"]}, \"R\": 30, \"lambda.step\": 0.01, \"plot.opts\": {\"xlab\": \"PC1\", \"ylab\": \"PC2\"}, \"topic.order\": [1, 2, 3, 4, 5, 6]};\n",
       "\n",
       "function LDAvis_load_lib(url, callback){\n",
       "  var s = document.createElement('script');\n",
       "  s.src = url;\n",
       "  s.async = true;\n",
       "  s.onreadystatechange = s.onload = callback;\n",
       "  s.onerror = function(){console.warn(\"failed to load library \" + url);};\n",
       "  document.getElementsByTagName(\"head\")[0].appendChild(s);\n",
       "}\n",
       "\n",
       "if(typeof(LDAvis) !== \"undefined\"){\n",
       "   // already loaded: just create the visualization\n",
       "   !function(LDAvis){\n",
       "       new LDAvis(\"#\" + \"ldavis_el279681402078753659042666432860\", ldavis_el279681402078753659042666432860_data);\n",
       "   }(LDAvis);\n",
       "}else if(typeof define === \"function\" && define.amd){\n",
       "   // require.js is available: use it to load d3/LDAvis\n",
       "   require.config({paths: {d3: \"https://d3js.org/d3.v5\"}});\n",
       "   require([\"d3\"], function(d3){\n",
       "      window.d3 = d3;\n",
       "      LDAvis_load_lib(\"https://cdn.jsdelivr.net/gh/bmabey/pyLDAvis@3.3.1/pyLDAvis/js/ldavis.v3.0.0.js\", function(){\n",
       "        new LDAvis(\"#\" + \"ldavis_el279681402078753659042666432860\", ldavis_el279681402078753659042666432860_data);\n",
       "      });\n",
       "    });\n",
       "}else{\n",
       "    // require.js not available: dynamically load d3 & LDAvis\n",
       "    LDAvis_load_lib(\"https://d3js.org/d3.v5.js\", function(){\n",
       "         LDAvis_load_lib(\"https://cdn.jsdelivr.net/gh/bmabey/pyLDAvis@3.3.1/pyLDAvis/js/ldavis.v3.0.0.js\", function(){\n",
       "                 new LDAvis(\"#\" + \"ldavis_el279681402078753659042666432860\", ldavis_el279681402078753659042666432860_data);\n",
       "            })\n",
       "         });\n",
       "}\n",
       "</script>"
      ],
      "text/plain": [
       "<IPython.core.display.HTML object>"
      ]
     },
     "execution_count": 20,
     "metadata": {},
     "output_type": "execute_result"
    }
   ],
   "source": [
    "pyLDAvis.display(lda_display)"
   ]
  },
  {
   "cell_type": "markdown",
   "id": "a3d14c87",
   "metadata": {},
   "source": [
    "Q: What conclusions do you draw from the visualization above? Please address the principal component scatterplot and the salient terms graph.\n",
    "\n",
    "A: <!-- Your answer here --> \n"
   ]
  }
 ],
 "metadata": {
  "kernelspec": {
   "display_name": "Python 3 (ipykernel)",
   "language": "python",
   "name": "python3"
  },
  "language_info": {
   "codemirror_mode": {
    "name": "ipython",
    "version": 3
   },
   "file_extension": ".py",
   "mimetype": "text/x-python",
   "name": "python",
   "nbconvert_exporter": "python",
   "pygments_lexer": "ipython3",
   "version": "3.8.8"
  }
 },
 "nbformat": 4,
 "nbformat_minor": 5
}
